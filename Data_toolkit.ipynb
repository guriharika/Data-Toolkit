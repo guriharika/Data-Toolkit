{
  "nbformat": 4,
  "nbformat_minor": 0,
  "metadata": {
    "colab": {
      "provenance": []
    },
    "kernelspec": {
      "name": "python3",
      "display_name": "Python 3"
    },
    "language_info": {
      "name": "python"
    }
  },
  "cells": [
    {
      "cell_type": "markdown",
      "source": [
        "## **Data Toolkit**"
      ],
      "metadata": {
        "id": "XhBXJzddrcy1"
      }
    },
    {
      "cell_type": "markdown",
      "source": [
        "# **Theory Questions**"
      ],
      "metadata": {
        "id": "qo4bC87zrtGc"
      }
    },
    {
      "cell_type": "markdown",
      "source": [
        "\n",
        "\n",
        "---\n",
        "\n"
      ],
      "metadata": {
        "id": "3kQxDFNbr7vr"
      }
    },
    {
      "cell_type": "markdown",
      "source": [
        "**Q1.What is NumPy, and why is it widely used in Python?**"
      ],
      "metadata": {
        "id": "7PCqaNzMr7tE"
      }
    },
    {
      "cell_type": "markdown",
      "source": [
        "Ans:NumPy (short for Numerical Python) is an open-source library in Python primarily used for numerical and scientific computing. It provides support for large, multi-dimensional arrays and matrices, along with a collection of high-level mathematical functions to operate on these arrays. Here’s a breakdown of why it's so widely used:\n",
        "\n",
        "**Key Features of NumPy:**\n",
        "\n",
        "Multi-dimensional Arrays: NumPy introduces the ndarray object, which is a fast and efficient container for large datasets and supports multi-dimensional arrays (1D, 2D, 3D, etc.).\n",
        "\n",
        "* Element-wise Operations: You can perform arithmetic operations directly on arrays, which NumPy executes efficiently in a vectorized manner (without the need for explicit loops).\n",
        "\n",
        "* Broadcasting: This feature allows NumPy to perform operations on arrays of different shapes in a way that is consistent and intuitive.\n",
        "\n",
        "* Mathematical Functions: NumPy includes a variety of built-in functions to handle complex mathematical operations like linear algebra, statistics, Fourier transforms, and more.\n",
        "\n",
        "* Efficiency: NumPy arrays are more memory-efficient and computationally faster than regular Python lists due to the optimized C implementation behind the scenes.\n",
        "\n",
        "* Integration: NumPy seamlessly integrates with other libraries like SciPy, pandas, and matplotlib, making it central to the Python scientific computing ecosystem.\n",
        "\n",
        "**Why is NumPy Widely Used?**\n",
        "\n",
        "\n",
        "* Speed: NumPy's implementation in C allows for faster computation than pure Python lists, making it ideal for heavy numerical computations.\n",
        "\n",
        "* Convenience: It simplifies working with large datasets, offering convenient syntax for array manipulation, mathematical operations, and data analysis.\n",
        "\n",
        "* Community and Support: As a cornerstone of the scientific Python ecosystem, NumPy enjoys extensive community support, documentation, and development.\n",
        "\n",
        "* Interoperability: It is the base for other powerful libraries, such as pandas (for data manipulation), SciPy (for scientific computing), and TensorFlow (for machine learning).\n",
        "\n",
        "\n",
        "\n",
        "---\n",
        "\n"
      ],
      "metadata": {
        "id": "rmkWt7YEr7rD"
      }
    },
    {
      "cell_type": "markdown",
      "source": [
        "**Q2.How does broadcasting work in NumPy?**"
      ],
      "metadata": {
        "id": "bpLDCXWjr7o7"
      }
    },
    {
      "cell_type": "markdown",
      "source": [
        "Ans:\n",
        "Broadcasting in NumPy allows arrays of different shapes to be used in arithmetic operations without explicit reshaping. NumPy automatically stretches smaller arrays to match the dimensions of the larger array, enabling element-wise operations.\n",
        "\n",
        "Broadcasting Rules:\n",
        "\n",
        "* Align dimensions: Smaller array dimensions are padded with ones (on the left) to match the larger array.\n",
        "\n",
        "* Compatibility: Dimensions are compatible if they are the same or if one of them is 1.\n",
        "\n",
        "* Element-wise operation: The smaller array is broadcast across the larger array, performing element-wise operations.\n",
        "\n",
        "\n",
        "\n",
        "---\n",
        "\n"
      ],
      "metadata": {
        "id": "OjWbwlwgr7mc"
      }
    },
    {
      "cell_type": "markdown",
      "source": [
        "**Q3.What is a Pandas DataFrame?**"
      ],
      "metadata": {
        "id": "Ze2cYb-br7kD"
      }
    },
    {
      "cell_type": "markdown",
      "source": [
        "Ans:A Pandas DataFrame is a 2-dimensional, size-mutable, and potentially heterogeneous tabular data structure in Python, similar to a table in a relational database or an Excel spreadsheet. It is one of the core data structures in the Pandas library, widely used for data manipulation and analysis.\n",
        "\n",
        "Key Features of a DataFrame:\n",
        "\n",
        "* Rows and Columns: A DataFrame consists of rows and columns, where columns can be of different data types (e.g., integers, floats, strings).\n",
        "\n",
        "* Indexing: It has both row indices and column labels, allowing for easy access and manipulation of data.\n",
        "\n",
        "* Size Mutability: You can change the size of a DataFrame (add/remove rows/columns).\n",
        "\n",
        "* Flexible Data Types: Columns can hold data of different types (e.g., one column could have integers while another has strings).\n",
        "\n",
        "* Missing Data Handling: Pandas provides built-in methods to handle missing or NaN (Not a Number) values.\n",
        "\n",
        "\n",
        "\n",
        "---\n",
        "\n"
      ],
      "metadata": {
        "id": "vdhdlPBir7hz"
      }
    },
    {
      "cell_type": "markdown",
      "source": [
        "**Q4.Explain the use of the groupby() method in Pandas?**"
      ],
      "metadata": {
        "id": "CWEg5YGAr7fL"
      }
    },
    {
      "cell_type": "markdown",
      "source": [
        "Ans:The groupby() method in Pandas is used to split data into groups based on some criteria (like column values), perform operations on each group, and then combine the results back into a DataFrame or Series. It's often used for aggregation, transformation, or filtering operations.\n",
        "\n",
        "Basic Steps of groupby():\n",
        "\n",
        "* Splitting: The data is split into groups based on the column(s) you specify.\n",
        "\n",
        "* Applying: An operation (like sum, mean, count, etc.) is applied to each group.\n",
        "\n",
        "* Combining: The results of the operation are combined back into a DataFrame or Series.\n",
        "\n",
        "\n",
        "\n",
        "---\n",
        "\n"
      ],
      "metadata": {
        "id": "7qKIvVr5r7cj"
      }
    },
    {
      "cell_type": "markdown",
      "source": [
        "**Q5.Why is Seaborn preferred for statistical visualizations?**"
      ],
      "metadata": {
        "id": "UWIHgbF6r7Z8"
      }
    },
    {
      "cell_type": "markdown",
      "source": [
        "Ans:Seaborn is preferred for statistical visualizations due to its:\n",
        "\n",
        "* High-level interface: It simplifies creating complex statistical plots (e.g., regression, distribution, heatmaps) with minimal code.\n",
        "\n",
        "* Integration with Pandas: You can directly pass Pandas DataFrames to Seaborn functions, streamlining the process.\n",
        "\n",
        "* Built-in statistical functions: It automatically performs statistical analysis like regression and visualizes the results.\n",
        "\n",
        "* Aesthetics and themes: Seaborn offers attractive, customizable plots with built-in color palettes and themes.\n",
        "\n",
        "* Specialized plots: It provides specialized plots like pair plots and facet grids for exploring relationships between variables.\n",
        "\n",
        "\n",
        "In summary, Seaborn makes it easy to create insightful, beautiful statistical visualizations with minimal effort.\n",
        "\n",
        "\n",
        "\n",
        "---\n",
        "\n",
        "\n",
        "\n",
        "\n",
        "\n"
      ],
      "metadata": {
        "id": "gP5r2Pvjr7XL"
      }
    },
    {
      "cell_type": "markdown",
      "source": [
        "**Q6.What are the differences between NumPy arrays and Python lists?**"
      ],
      "metadata": {
        "id": "lpkSbCGhr7Ur"
      }
    },
    {
      "cell_type": "markdown",
      "source": [
        "Ans:\n",
        "\n",
        "**1.Data Type Consistency:**\n",
        "\n",
        "* NumPy arrays: All elements in a NumPy array must be of the same data type (e.g., all integers, all floats). This ensures efficient storage and operations.\n",
        "\n",
        "* Python lists: Elements can be of different data types (e.g., integers, strings, floats, etc.).\n",
        "\n",
        "**2. Performance:**\n",
        "\n",
        "* NumPy arrays: Are much more efficient in terms of memory and computation. They are implemented in C and optimized for vectorized operations, making them faster for large numerical datasets.\n",
        "\n",
        "* Python lists: Are slower for numerical operations, as they are more general-purpose and less optimized for mathematical computations.\n",
        "\n",
        "**3. Memory Efficiency:**\n",
        "\n",
        "* NumPy arrays: Use less memory as they are tightly packed in memory and store data in a contiguous block.\n",
        "\n",
        "* Python lists: Are more memory-intensive due to their flexibility in storing elements of different types, leading to overhead.\n",
        "\n",
        "**4. Mathematical Operations:**\n",
        "\n",
        "* NumPy arrays: Support vectorized operations, meaning you can perform operations on entire arrays (e.g., addition, subtraction) without writing loops. Operations are applied element-wise, and NumPy handles these efficiently.\n",
        "\n",
        "* Python lists: Do not support vectorized operations. To perform mathematical operations, you need to use loops or list comprehensions.\n",
        "\n",
        "**5. Multidimensional Data:**\n",
        "\n",
        "* NumPy arrays: Can handle multi-dimensional arrays (e.g., 2D matrices, 3D tensors) with ease, which is essential for many scientific, mathematical, and machine learning tasks.\n",
        "\n",
        "* Python lists: Can represent multi-dimensional data using nested lists, but handling such data is more cumbersome and less efficient.\n",
        "\n",
        "**6. Built-in Functions:**\n",
        "\n",
        "* NumPy arrays: Offer a rich set of mathematical functions (like np.sum(), np.mean(), np.dot(), etc.) that allow easy manipulation and computation on the arrays.\n",
        "\n",
        "* Python lists: Have fewer built-in functions for mathematical computations. You generally need to use loops or external libraries.\n",
        "\n",
        "**7. Shape and Size:**\n",
        "\n",
        "* NumPy arrays: Have a fixed size and shape, which allows efficient indexing and slicing. You can reshape or resize the array easily using methods like reshape().\n",
        "\n",
        "* Python lists: Are more flexible in terms of size (elements can be appended or removed easily), but reshaping requires manual manipulation.\n",
        "\n",
        "\n",
        "\n",
        "---\n",
        "\n"
      ],
      "metadata": {
        "id": "PKNfH8Y6r7R7"
      }
    },
    {
      "cell_type": "markdown",
      "source": [
        "**Q7.What is a heatmap, and when should it be used?**"
      ],
      "metadata": {
        "id": "A9ps1cOAr7PD"
      }
    },
    {
      "cell_type": "markdown",
      "source": [
        "Ans:  A heatmap is a data visualization technique that displays values in a matrix or 2D grid with colors representing the magnitude of each value. The intensity or hue of each cell in the matrix corresponds to the value it holds, making it easy to identify patterns, correlations, and outliers in the data.\n",
        "\n",
        "**Key Characteristics of a Heatmap**:\n",
        "\n",
        "* Color encoding: Different colors (often a gradient from cool to warm colors) represent different data values, with higher values typically shown with warmer colors (e.g., red, orange) and lower values with cooler colors (e.g., blue, green).\n",
        "\n",
        "* 2D grid: Typically used for data with two categorical axes, such as a matrix or correlation table.\n",
        "\n",
        "* Easy comparison: It allows for a quick, intuitive visual comparison of large datasets.\n",
        "\n",
        "\n",
        "**When to Use a Heatmap:**\n",
        "\n",
        "\n",
        "1.Correlation matrices: To visualize the correlation between different variables. For example, in data science, a heatmap can be used to display correlations between features in a dataset.\n",
        "\n",
        "* Example: Visualizing how various stock prices move in relation to each other.\n",
        "\n",
        "2.Categorical Data Comparison: When comparing two categorical variables or multiple categories across different groups, a heatmap can show the relationship between categories clearly.\n",
        "\n",
        "* Example: Comparing sales data across different regions and months.\n",
        "\n",
        "3.Matrix Data: For any 2D matrix or table-like data, where each value represents a metric (e.g., distances, similarity scores, or performance metrics).\n",
        "\n",
        "* Example: Showing results from a machine learning model, such as confusion matrices for classification.\n",
        "\n",
        "4.Geospatial Data: Heatmaps are often used to represent geographical data, where colors represent density or intensity, such as crime rates or population density across different regions.\n",
        "\n",
        "* Example: Visualizing hotspots in crime data on a city map.\n",
        "\n",
        "5.Time-series Data: Heatmaps can also be used to track changes over time, with colors representing values in different time periods.\n",
        "\n",
        "* Example: Displaying the temperature variation in different months of the year.\n",
        "\n",
        "\n",
        "\n",
        "---\n",
        "\n"
      ],
      "metadata": {
        "id": "AtERr-mbr7Mj"
      }
    },
    {
      "cell_type": "markdown",
      "source": [
        "**Q8.What does the term “vectorized operation” mean in NumPy?**"
      ],
      "metadata": {
        "id": "U0qVuTJ-r7J7"
      }
    },
    {
      "cell_type": "markdown",
      "source": [
        "Ans:In NumPy, a vectorized operation refers to the ability to perform operations on entire arrays (or large datasets) without using explicit loops in Python. Instead, operations are applied element-wise to the entire array, and NumPy handles the iteration in the underlying C implementation, making it much faster and more efficient than using loops in Python.\n",
        "\n",
        "\n",
        "\n",
        "---\n",
        "\n"
      ],
      "metadata": {
        "id": "8DdPEejvr7HT"
      }
    },
    {
      "cell_type": "markdown",
      "source": [
        "**Q9. How does Matplotlib differ from Plotly?**"
      ],
      "metadata": {
        "id": "JtnMiejfr7Er"
      }
    },
    {
      "cell_type": "markdown",
      "source": [
        "Ans:Matplotlib and Plotly are both popular Python libraries for data visualization, but they differ significantly in terms of interactivity, ease of use, customization, and use cases.\n",
        "\n",
        "**1. Interactivity:**\n",
        "\n",
        "* Matplotlib: Primarily produces static plots. While it can create simple interactive plots when integrated with other tools (e.g., Jupyter Notebooks or using matplotlib.widgets), the interactivity is limited compared to Plotly.\n",
        "\n",
        "* Plotly: Designed for interactive visualizations. Plotly plots are highly interactive by default, allowing users to zoom, pan, hover for information, and even update plots dynamically.\n",
        "\n",
        "**2. Ease of Use:**\n",
        "\n",
        "* Matplotlib: While Matplotlib offers powerful customization, it often requires more code to create complex plots and fine-tune the appearance. It's considered more \"low-level\" compared to Plotly.\n",
        "\n",
        "* Plotly: Plotly has a more intuitive syntax and higher-level functions that simplify creating interactive and aesthetically pleasing plots. It's easier to use for those who need quick, polished visualizations.\n",
        "\n",
        "**3. Customization:**\n",
        "\n",
        "* Matplotlib: Extremely customizable with fine-grained control over every aspect of the plot, including axes, labels, tick marks, color schemes, etc. This makes it a great choice for highly customized plots.\n",
        "\n",
        "* Plotly: Offers customization but in a more user-friendly and less granular manner. It's great for creating aesthetically appealing, high-level visualizations quickly, though it may not provide the same low-level customization as Matplotlib.\n",
        "\n",
        "**4. Output Type:**\n",
        "\n",
        "* Matplotlib: Generates static images (e.g., PNG, JPG, PDF) or inline plots in notebooks. While it can create interactive plots with additional effort, it's not optimized for this.\n",
        "\n",
        "* Plotly: Generates interactive plots by default, which can be embedded in web pages, shared online, or saved as HTML files for web-based interactivity.\n",
        "\n",
        "**5. Complexity and Use Cases:**\n",
        "\n",
        "* Matplotlib: It is ideal for static plots, publication-ready visualizations, and complex visualizations that require fine-tuned control over every plot element. It is commonly used in scientific research, academia, and other areas where precise, high-quality static visuals are necessary.\n",
        "\n",
        "* Plotly: Best for interactive dashboards, exploratory data analysis, and presentations where user interaction and dynamic updates are required. It is commonly used for building web-based applications and visualizations.\n",
        "\n",
        "\n",
        "\n",
        "---\n",
        "\n"
      ],
      "metadata": {
        "id": "95SM3gPyr7CD"
      }
    },
    {
      "cell_type": "markdown",
      "source": [
        "**Q10.What is the significance of hierarchical indexing in Pandas?**"
      ],
      "metadata": {
        "id": "i8O2SnWxr6_j"
      }
    },
    {
      "cell_type": "markdown",
      "source": [
        "Ans:\n",
        "\n",
        "**Significance of Hierarchical Indexing:**\n",
        "\n",
        "\n",
        "**1.Multi-level Data Organization:** Hierarchical indexing allows you to represent data with multiple levels of indexing (e.g., rows and columns) without needing to flatten the structure. This is particularly useful when dealing with grouped data (e.g., data with sub-categories) that requires organizing along multiple dimensions.\n",
        "\n",
        "**2.Efficient Grouping and Aggregation:** With hierarchical indexing, you can group data by multiple levels, making it easy to perform operations like aggregation, transformation, and filtering across these hierarchical levels. This is particularly useful for time-series data, financial data, and datasets that have nested categories.\n",
        "\n",
        "**3.Improved Data Manipulation:** Hierarchical indexing allows you to access and manipulate data at different levels more efficiently, making operations like slicing, subsetting, and pivoting easier. You can access subsets of the data by specifying index labels from any level of the hierarchy.\n",
        "\n",
        "**4.Readable Data Representation:** It enhances the readability of multi-dimensional data in a DataFrame, as it groups related data under the same index, making it clearer and more organized. This is beneficial for visualizing data that has natural hierarchical relationships (e.g., country → state → city).\n",
        "\n",
        "\n",
        "\n",
        "---\n",
        "\n"
      ],
      "metadata": {
        "id": "gSb71n3br687"
      }
    },
    {
      "cell_type": "markdown",
      "source": [
        "**Q11.What is the role of Seaborn’s pairplot() function?**"
      ],
      "metadata": {
        "id": "DaPU9BAFr66j"
      }
    },
    {
      "cell_type": "markdown",
      "source": [
        "Ans:The pairplot() function in Seaborn is used to create a grid of scatter plots for each pair of variables in a dataset, along with histograms or KDEs (Kernel Density Estimations) along the diagonal. It provides an efficient way to visualize relationships between multiple variables, helping you explore the pairwise relationships and distributions in a dataset.\n",
        "\n",
        "\n",
        "\n",
        "---\n",
        "\n"
      ],
      "metadata": {
        "id": "t9tR8GB9r64D"
      }
    },
    {
      "cell_type": "markdown",
      "source": [
        "**Q12.What is the purpose of the describe() function in Pandas?**"
      ],
      "metadata": {
        "id": "4r6j_V_Br61T"
      }
    },
    {
      "cell_type": "markdown",
      "source": [
        "Ans:The describe() function in Pandas is used to generate summary statistics for a DataFrame or Series. It provides a quick overview of the distribution and central tendencies of the numerical (and optionally categorical) data in the dataset. The output includes statistical measures such as count, mean, standard deviation, min/max values, percentiles (25%, 50%, 75%), and sometimes unique values, top frequent values, and frequency for categorical data.\n",
        "\n",
        "**Purpose of describe():**\n",
        "\n",
        "\n",
        "**1.Summarize Numerical Data:** It provides essential statistics (e.g., mean, min, max, standard deviation) for numerical columns in the DataFrame, helping you quickly understand the distribution of the data.\n",
        "\n",
        "**2.Identify Outliers:** By showing the minimum and maximum values, along with percentiles, you can identify potential outliers in the data.\n",
        "\n",
        "**3.Gain Insight into Data:** It offers insights into the spread and central tendency of the dataset, which is essential for understanding the underlying data before applying further analysis or machine learning techniques.\n",
        "\n",
        "**4.Check for Missing Values:** The count value can be helpful in identifying missing or null values in the dataset (since count only considers non-null entries).\n",
        "\n",
        "\n",
        "\n",
        "---\n",
        "\n"
      ],
      "metadata": {
        "id": "xY3PblUwr6ys"
      }
    },
    {
      "cell_type": "markdown",
      "source": [
        "**Q13.Why is handling missing data important in Pandas?**"
      ],
      "metadata": {
        "id": "EAUOlqSNr6wT"
      }
    },
    {
      "cell_type": "markdown",
      "source": [
        "Ans:\n",
        "\n",
        "**1.Accurate Analysis:**\n",
        "* Missing data can lead to biased or incorrect analysis and modeling. If you don't handle missing values, many statistical methods (e.g., mean, standard deviation) and machine learning algorithms may produce inaccurate results or fail to execute.\n",
        "\n",
        "**2. Data Integrity:**\n",
        "* Missing data can compromise the integrity of the dataset, especially in cases where every data point is essential (e.g., financial or medical data). Proper handling ensures the dataset remains valid and reliable for decision-making.\n",
        "\n",
        "**3. Avoiding Errors:**\n",
        "* Many algorithms and functions in Pandas and other libraries may throw errors or behave unpredictably if they encounter missing data, such as when performing mathematical operations or building models.\n",
        "\n",
        "**4. Improving Model Performance:**\n",
        "* If you're working with machine learning models, models trained on incomplete data can fail to generalize well to new data. Handling missing values (e.g., by imputation or removal) improves the model’s performance and robustness.\n",
        "\n",
        "**5. Data Consistency:**\n",
        "* Inconsistent data (where some values are missing) can lead to confusion and difficulty in analyzing or visualizing the data. Filling or removing missing values ensures consistency throughout the dataset.\n",
        "\n",
        "\n",
        "\n",
        "---\n",
        "\n"
      ],
      "metadata": {
        "id": "t26pQi51r6tb"
      }
    },
    {
      "cell_type": "markdown",
      "source": [
        "**Q14.What are the benefits of using Plotly for data visualization?**"
      ],
      "metadata": {
        "id": "ErcAx0rQr6qz"
      }
    },
    {
      "cell_type": "markdown",
      "source": [
        "Ans:\n",
        "\n",
        "**1. Interactive Visualizations:**\n",
        "* Highly interactive: Plotly plots are interactive by default. Users can zoom, pan, hover for data details, and even click to explore more. This makes Plotly great for exploratory data analysis and presentations where users need to interact with the data.\n",
        "\n",
        "* Dynamic updates: You can create interactive dashboards or real-time visualizations that can be updated with new data.\n",
        "\n",
        "**2. Ease of Use:**\n",
        "* Plotly has a simple API and requires minimal code to create complex, interactive plots. Its high-level functions make it easy to produce polished, professional-looking visualizations quickly.\n",
        "\n",
        "* Plotly integrates smoothly with Pandas and NumPy, so you can pass your DataFrames directly into Plotly functions for easy plotting.\n",
        "\n",
        "**3. Aesthetic and Publication-Ready Plots:**\n",
        "* Plotly provides high-quality, aesthetically pleasing plots that are ready for publication or presentations without much customization. You can also fine-tune the visuals with a variety of color schemes, themes, and layout options.\n",
        "\n",
        "* It offers clean designs, making it ideal for visually engaging reports, websites, or dashboards.\n",
        "\n",
        "\n",
        "\n",
        "---\n",
        "\n"
      ],
      "metadata": {
        "id": "A67-NMhor6oL"
      }
    },
    {
      "cell_type": "markdown",
      "source": [
        "**Q15.How does NumPy handle multidimensional arrays?**"
      ],
      "metadata": {
        "id": "qnYZpTAsr6mE"
      }
    },
    {
      "cell_type": "markdown",
      "source": [
        "Ans:\n",
        "NumPy provides robust support for multidimensional arrays, allowing you to efficiently handle and manipulate data with more than one dimension (e.g., 2D matrices, 3D tensors). This capability is essential for performing advanced mathematical, statistical, and machine learning operations.\n",
        "\n",
        "\n",
        "\n",
        "---\n",
        "\n"
      ],
      "metadata": {
        "id": "4S7L9HXRr6jj"
      }
    },
    {
      "cell_type": "markdown",
      "source": [
        "**Q16.What is the role of Bokeh in data visualization?**"
      ],
      "metadata": {
        "id": "_Q7MxMfgr6hT"
      }
    },
    {
      "cell_type": "markdown",
      "source": [
        "Ans:Bokeh is a powerful and interactive data visualization library for Python, designed for creating web-based visualizations that are both visually appealing and easy to integrate into interactive web applications. It is particularly suited for large datasets, real-time updates, and interactive plots.\n",
        "\n",
        "\n",
        "\n",
        "---\n",
        "\n"
      ],
      "metadata": {
        "id": "xJ2DsHHKr6er"
      }
    },
    {
      "cell_type": "markdown",
      "source": [
        "**Q17. Explain the difference between apply() and map() in Pandas?**"
      ],
      "metadata": {
        "id": "PR5cVZWtr6cb"
      }
    },
    {
      "cell_type": "markdown",
      "source": [
        "Ans:In Pandas, both apply() and map() are used to apply functions to a DataFrame or Series, but they have key differences in how they operate and the types of objects they work with. Here’s a comparison between the two:\n",
        "\n",
        "**1. apply() Function:**\n",
        "\n",
        "* Usage: apply() can be used on both DataFrame and Series objects. It is used to apply a function along a particular axis (rows or columns in a DataFrame) or to each element in a Series.\n",
        "\n",
        "* Flexibility: It’s more flexible compared to map(), as it can be used with more complex functions and can operate on rows or columns in a DataFrame (not just individual elements).\n",
        "\n",
        "* Return Types: It can return a variety of objects, such as a Series, DataFrame, or scalar (depending on the function applied).\n",
        "\n",
        "**2. map() Function:**\n",
        "\n",
        "* Usage: map() is used only with Series and is applied to each individual element in the Series. It’s typically used to map values in the Series based on a dictionary, function, or Series.\n",
        "\n",
        "* Limitations: Unlike apply(), map() works only on a single column (Series), not on entire DataFrames.\n",
        "\n",
        "* Return Types: It generally returns a Series of the same length as the original, where each value is the result of applying the function or mapping operation.\n",
        "\n",
        "\n",
        "\n",
        "---\n",
        "\n"
      ],
      "metadata": {
        "id": "_mnRaFx9r6Z7"
      }
    },
    {
      "cell_type": "markdown",
      "source": [
        "**Q18.A What are some advanced features of NumPy?**"
      ],
      "metadata": {
        "id": "yxyQz05mr6Xj"
      }
    },
    {
      "cell_type": "markdown",
      "source": [
        "Ans:NumPy is a powerful library for numerical computations in Python, and it provides several advanced features that make it highly efficient for working with large datasets, performing complex mathematical operations, and optimizing performance. Below are some of the advanced features of NumPy:\n",
        "\n",
        "**1. Broadcasting:**\n",
        "\n",
        "* Broadcasting is a feature that allows NumPy to perform operations on arrays of different shapes in a way that the smaller array is broadcast over the larger array to match their shapes. This helps avoid the need for explicit loops and makes computations faster and more memory-efficient.\n",
        "\n",
        "**2. Vectorization:**\n",
        "\n",
        "* NumPy allows vectorized operations, where operations on arrays are automatically optimized to be faster and more efficient by performing element-wise operations without the need for explicit Python loops. This can lead to significant speedups in large-scale computations.\n",
        "\n",
        "**3. Advanced Indexing and Slicing:**\n",
        "\n",
        "* NumPy provides powerful ways to index and slice arrays, enabling you to work with specific parts of an array efficiently. You can use boolean indexing, fancy indexing (using arrays as indices), or multidimensional slicing.\n",
        "\n",
        "**4. Linear Algebra:**\n",
        "\n",
        "* NumPy provides a linear algebra module (np.linalg) for performing various matrix operations, such as matrix multiplication, eigenvalue decomposition, solving systems of linear equations, and computing determinants.\n",
        "\n",
        "**5. Random Sampling:**\n",
        "\n",
        "* The numpy.random module provides a suite of functions for generating random numbers, performing random sampling, and simulating random events. This is useful in many applications like statistical simulations, Monte Carlo methods, and randomized algorithms.\n",
        "\n",
        "\n",
        "\n",
        "---\n",
        "\n",
        "\n"
      ],
      "metadata": {
        "id": "BBONUx5-r6VD"
      }
    },
    {
      "cell_type": "markdown",
      "source": [
        "**Q19. How does Pandas simplify time series analysis?**"
      ],
      "metadata": {
        "id": "HF3KFGmE2pkl"
      }
    },
    {
      "cell_type": "markdown",
      "source": [
        "Ans:Pandas simplifies time series analysis by providing powerful, easy-to-use tools that handle time-based data efficiently. Time series analysis involves working with data that is indexed by time (e.g., stock prices, temperature readings, or sales data), and Pandas makes it easier to manipulate, analyze, and visualize time-based data.\n",
        "\n",
        "\n",
        "**Here are several ways Pandas simplifies time series analysis:**\n",
        "\n",
        "**1. Date and Time Handling:**\n",
        "\n",
        "* DateTime Index: Pandas allows you to easily create and work with a DateTime index, which is essential for time series analysis. It allows you to perform operations based on time intervals, like grouping data by day, month, year, etc.\n",
        "\n",
        "* Date Parsing: Pandas can automatically parse dates from strings when reading data, which eliminates the need for manual conversion.\n",
        "\n",
        "**2. Resampling:**\n",
        "\n",
        "* Pandas allows resampling of time series data to a different frequency (e.g., converting daily data to monthly data or hourly data to daily data). This is useful for aggregating data or filling missing time periods.\n",
        "\n",
        "* You can easily resample with resample() and apply aggregation functions like mean, sum, min, max, etc.\n",
        "\n",
        "**3. Time Shifting:**\n",
        "\n",
        "* Shifting allows you to shift your time series data forward or backward in time, which is useful for tasks like calculating lag features or performing time series forecasting.\n",
        "\n",
        "* You can use shift() to shift data along the time axis.\n",
        "\n",
        "\n",
        "\n",
        "---\n",
        "\n",
        "\n",
        "\n"
      ],
      "metadata": {
        "id": "_n27lp75r6Sb"
      }
    },
    {
      "cell_type": "markdown",
      "source": [
        "**Q20.What is the role of a pivot table in Pandas?**"
      ],
      "metadata": {
        "id": "kuxF-B_9r6Pr"
      }
    },
    {
      "cell_type": "markdown",
      "source": [
        "Ans:In Pandas, a pivot table is a powerful tool used to summarize, aggregate, and reshape data. It allows you to transform and analyze data in a way that makes it easier to detect trends, patterns, and relationships between variables. Pivot tables are especially useful for data aggregation when you want to organize your data by grouping it based on one or more categorical variables, and then applying a function to summarize the numeric values.\n",
        "\n",
        "Key Roles of a Pivot Table in Pandas:\n",
        "\n",
        "**1.Data Aggregation:**\n",
        "\n",
        "* Pivot tables allow you to aggregate data based on one or more categorical columns. This is useful when you need to compute summary statistics (e.g., sum, mean, count, etc.) for groups of data.\n",
        "\n",
        "* Example: Summarizing sales data by product category and region.\n",
        "\n",
        "**2.Reshaping Data:**\n",
        "\n",
        "* Pivot tables help to reshape data by turning unique values from one column into separate columns, with corresponding values from another column filling the table's cells.\n",
        "\n",
        "* This is particularly helpful when transforming long-format data (tall data) into a wide-format table (wide data).\n",
        "\n",
        "**3.Summarizing Relationships:**\n",
        "\n",
        "* Pivot tables are effective in visualizing the relationship between two or more categorical variables, and they can also show how numerical data is distributed across different categories.\n",
        "\n",
        "**4.Handling Multi-level Indexes:**\n",
        "\n",
        "* Pivot tables allow you to create a multi-level index for the rows or columns, making it easier to handle hierarchical data.\n",
        "\n",
        "\n",
        "\n",
        "---\n",
        "\n"
      ],
      "metadata": {
        "id": "DNN7Sx_1r6Iz"
      }
    },
    {
      "cell_type": "markdown",
      "source": [
        "**Q21.Why is NumPy’s array slicing faster than Python’s list slicing?**"
      ],
      "metadata": {
        "id": "YkL0oL0K4ICS"
      }
    },
    {
      "cell_type": "markdown",
      "source": [
        "Ans:NumPy’s array slicing is significantly faster than Python's list slicing due to the following key reasons:\n",
        "\n",
        "**1. Contiguous Memory Allocation:**\n",
        "\n",
        "* NumPy arrays are stored in contiguous blocks of memory, meaning that all elements are stored in a single, continuous chunk of memory. This allows NumPy to quickly access and slice data because it can calculate the memory address of any element using simple arithmetic.\n",
        "\n",
        "* In contrast, Python lists are implemented as arrays of pointers to objects, where each element can be stored in a different memory location. This requires extra overhead to manage and access the elements.\n",
        "\n",
        "**2. Optimized Internal Operations:**\n",
        "\n",
        "* NumPy operations are written in C and optimized for performance. When slicing a NumPy array, NumPy uses low-level, compiled C code that directly handles memory addresses and array slices. This results in highly efficient operations that minimize overhead.\n",
        "\n",
        "* On the other hand, Python lists are dynamic arrays of objects, and the slicing operation requires copying elements into a new list, involving Python’s object handling and additional overhead.\n",
        "\n",
        "**3. No Copying for Slices (in NumPy):**\n",
        "\n",
        "* NumPy slicing returns views (references to the original data) instead of copying data. This means that the slicing operation is just a lightweight operation that doesn't involve data duplication unless explicitly requested.\n",
        "\n",
        "* Python list slicing, by contrast, creates a new list and copies the elements from the original list to the new one, which takes more time and memory.\n",
        "\n",
        "**4. Vectorized Operations:**\n",
        "\n",
        "* NumPy arrays allow for vectorized operations, meaning that entire slices of arrays can be processed at once, using compiled low-level code that operates on entire blocks of data in a vectorized manner.\n",
        "\n",
        "* Python lists do not have the same level of support for vectorized operations, and Python’s loops are generally slower than NumPy’s optimized internal operations.\n",
        "\n",
        "**5. Memory Layout:**\n",
        "\n",
        "* NumPy arrays are optimized for efficient slicing because they are stored in row-major or column-major contiguous memory layouts, which enhances the speed of slicing operations along rows or columns.\n",
        "\n",
        "\n",
        "\n",
        "---\n",
        "\n"
      ],
      "metadata": {
        "id": "ZbGjWW9c4H7r"
      }
    },
    {
      "cell_type": "markdown",
      "source": [
        "**Q22.What are some common use cases for Seaborn?**"
      ],
      "metadata": {
        "id": "pYiH5nAF4H0a"
      }
    },
    {
      "cell_type": "markdown",
      "source": [
        "Ans:Seaborn is a powerful data visualization library built on top of Matplotlib, and it is specifically designed for statistical visualizations in Python. It provides a high-level interface to create attractive, informative, and complex plots with minimal effort. Some common use cases for Seaborn include:\n",
        "\n",
        "**1. Visualizing Relationships Between Variables:**\n",
        "\n",
        "* Seaborn is commonly used to visualize the relationship between two or more variables, especially when working with categorical and numerical data.\n",
        "\n",
        "* **Common plots:**\n",
        "\n",
        "* Scatter plots: sns.scatterplot()\n",
        "\n",
        "* Line plots: sns.lineplot()\n",
        "\n",
        "* Pair plots: sns.pairplot()\n",
        "\n",
        "* Hexbin plots: sns.hexbin()\n",
        "\n",
        "**2. Visualizing Distributions:**\n",
        "\n",
        "* Seaborn is widely used for visualizing the distribution of numerical data, including summary statistics such as mean, median, and standard deviation. It simplifies creating histograms, density plots, and box plots.\n",
        "\n",
        "* **Common plots:**\n",
        "\n",
        "* Histograms: sns.histplot()\n",
        "\n",
        "* Kernel Density Estimation (KDE): sns.kdeplot()\n",
        "\n",
        "* Box plots: sns.boxplot()\n",
        "\n",
        "* Violin plots: sns.violinplot()\n",
        "\n",
        "* Strip plots: sns.stripplot()\n",
        "\n",
        "\n",
        "**3. Categorical Data Visualization:**\n",
        "\n",
        "* Seaborn is excellent for visualizing categorical data, which involves grouping data by categories. It provides several plot types that summarize the relationship between categorical and numerical variables.\n",
        "\n",
        "* **Common plots:**\n",
        "\n",
        "* Bar plots: sns.barplot()\n",
        "\n",
        "* Count plots: sns.countplot()\n",
        "\n",
        "* Box plots: sns.boxplot()\n",
        "\n",
        "* Violin plots: sns.violinplot()\n",
        "\n",
        "\n",
        "\n",
        "---\n",
        "\n"
      ],
      "metadata": {
        "id": "DSE1rhjE4HvT"
      }
    },
    {
      "cell_type": "markdown",
      "source": [
        "\n",
        "\n",
        "---\n",
        "\n"
      ],
      "metadata": {
        "id": "kTTq2h_l5xv7"
      }
    },
    {
      "cell_type": "markdown",
      "source": [
        "## **Practical Questions**"
      ],
      "metadata": {
        "id": "5ZCYbuDs50Cr"
      }
    },
    {
      "cell_type": "markdown",
      "source": [
        "**Q1.How do you create a 2D NumPy array and calculate the sum of each row?**\n",
        "\n",
        "Ans:"
      ],
      "metadata": {
        "id": "0IQdt4QA57jz"
      }
    },
    {
      "cell_type": "code",
      "execution_count": 5,
      "metadata": {
        "id": "C5SsKNo2rb5W"
      },
      "outputs": [],
      "source": [
        "import numpy as np\n",
        "\n",
        "# Create another 2D NumPy array\n",
        "\n",
        "array = np.array([[1, 2, 3], [4, 5, 6], [7, 8, 9]])\n",
        "\n",
        "#Calculate the sum of each row\n",
        "\n",
        "row_sums = np.sum(array, axis=1)\n",
        "\n"
      ]
    },
    {
      "cell_type": "code",
      "source": [
        "array"
      ],
      "metadata": {
        "colab": {
          "base_uri": "https://localhost:8080/"
        },
        "id": "LOA7H1EbIC5-",
        "outputId": "4a8ad7b7-4e2d-4e19-dd77-40da44cb2d0b"
      },
      "execution_count": 6,
      "outputs": [
        {
          "output_type": "execute_result",
          "data": {
            "text/plain": [
              "array([[1, 2, 3],\n",
              "       [4, 5, 6],\n",
              "       [7, 8, 9]])"
            ]
          },
          "metadata": {},
          "execution_count": 6
        }
      ]
    },
    {
      "cell_type": "code",
      "source": [
        "row_sums"
      ],
      "metadata": {
        "colab": {
          "base_uri": "https://localhost:8080/"
        },
        "id": "wmIf_G0BIEFu",
        "outputId": "d0166920-f07b-4420-87b5-d116ddb65dfa"
      },
      "execution_count": 7,
      "outputs": [
        {
          "output_type": "execute_result",
          "data": {
            "text/plain": [
              "array([ 6, 15, 24])"
            ]
          },
          "metadata": {},
          "execution_count": 7
        }
      ]
    },
    {
      "cell_type": "markdown",
      "source": [
        "\n",
        "\n",
        "---\n",
        "\n"
      ],
      "metadata": {
        "id": "7EwXP1elIXx3"
      }
    },
    {
      "cell_type": "markdown",
      "source": [
        "**Q2.Write a Pandas script to find the mean of a specific column in a DataFrame?**\n",
        "\n",
        "Ans:"
      ],
      "metadata": {
        "id": "Q68km5UOIZsP"
      }
    },
    {
      "cell_type": "code",
      "source": [
        "import pandas as pd\n",
        "\n",
        "#first we Create a sample DataFrame\n",
        "\n",
        "data = {\n",
        "    \"name\": [\"guri\",\"prince\",\"prabjot\"],\n",
        "    \"age\" : [22,17,20],\n",
        "    \"salary\" : [500000,400000,30000]\n",
        "}\n",
        "\n",
        "df = pd.DataFrame(data)\n",
        "\n",
        "# Calculate the mean of the \"salary\" column\n",
        "\n",
        "mean_salary = df[\"salary\"].mean()"
      ],
      "metadata": {
        "id": "ybqzF5_qIHHm"
      },
      "execution_count": 13,
      "outputs": []
    },
    {
      "cell_type": "code",
      "source": [
        "mean_salary"
      ],
      "metadata": {
        "colab": {
          "base_uri": "https://localhost:8080/"
        },
        "id": "29hlGYoLLyHW",
        "outputId": "1171b53a-9f1e-408c-822f-3c1205349b64"
      },
      "execution_count": 14,
      "outputs": [
        {
          "output_type": "execute_result",
          "data": {
            "text/plain": [
              "310000.0"
            ]
          },
          "metadata": {},
          "execution_count": 14
        }
      ]
    },
    {
      "cell_type": "markdown",
      "source": [
        "\n",
        "\n",
        "---\n",
        "\n"
      ],
      "metadata": {
        "id": "G4covq-OL3EH"
      }
    },
    {
      "cell_type": "markdown",
      "source": [
        "**Q3.Create a scatter plot using Matplotlib?**\n",
        "\n",
        "Ans:"
      ],
      "metadata": {
        "id": "MkIu-dX_L7xP"
      }
    },
    {
      "cell_type": "code",
      "source": [
        "import matplotlib.pyplot as plt\n",
        "\n",
        "# Sample data for the scatter plot\n",
        "x = [1, 2, 3, 4, 5]\n",
        "y = [10, 20, 25, 30, 40]\n",
        "\n",
        "# Create a scatter plot\n",
        "plt.scatter(x, y, color='blue', marker='o')\n",
        "\n",
        "# Add labels and title\n",
        "plt.xlabel('X-axis Label')\n",
        "plt.ylabel('Y-axis Label')\n",
        "plt.title('Sample Scatter Plot')\n",
        "\n",
        "# Display the plot\n",
        "plt.show()"
      ],
      "metadata": {
        "colab": {
          "base_uri": "https://localhost:8080/",
          "height": 472
        },
        "id": "mn8HBAOoL5K_",
        "outputId": "749f0dc9-3828-4c31-b5d6-ea82a896af5e"
      },
      "execution_count": 15,
      "outputs": [
        {
          "output_type": "display_data",
          "data": {
            "text/plain": [
              "<Figure size 640x480 with 1 Axes>"
            ],
            "image/png": "[encoded data removed]"
          },
          "metadata": {}
        }
      ]
    },
    {
      "cell_type": "markdown",
      "source": [
        "\n",
        "\n",
        "---\n",
        "\n"
      ],
      "metadata": {
        "id": "zGYHwWEXMlmh"
      }
    },
    {
      "cell_type": "markdown",
      "source": [
        "**Q4.How do you calculate the correlation matrix using Seaborn and visualize it with a heatmap**\n",
        "\n",
        "Ans:"
      ],
      "metadata": {
        "id": "aoyp7zzBMm2H"
      }
    },
    {
      "cell_type": "code",
      "source": [
        "import seaborn as sns\n",
        "import matplotlib.pyplot as plt\n",
        "import pandas as pd\n",
        "\n",
        "# Sample DataFrame\n",
        "data = {\n",
        "    'A': [1, 2, 3, 4, 5],\n",
        "    'B': [5, 4, 3, 2, 1],\n",
        "    'C': [2, 3, 4, 5, 6],\n",
        "    'D': [9, 7, 8, 7, 9]\n",
        "}\n",
        "\n",
        "guri = pd.DataFrame(data)\n",
        "\n",
        "# Calculate the correlation matrix\n",
        "corr_matrix = guri.corr()\n",
        "\n",
        "# Create a heatmap to visualize the correlation matrix\n",
        "sns.heatmap(corr_matrix, annot=True, cmap='coolwarm', linewidths=0.5)\n",
        "\n",
        "# Add labels and title\n",
        "plt.title('Correlation Matrix Heatmap')\n",
        "\n",
        "# Show the plot\n",
        "plt.show()"
      ],
      "metadata": {
        "colab": {
          "base_uri": "https://localhost:8080/",
          "height": 452
        },
        "id": "mU7hMhuiL1Pe",
        "outputId": "a51196ff-a176-4399-857e-a239835f5697"
      },
      "execution_count": 19,
      "outputs": [
        {
          "output_type": "display_data",
          "data": {
            "text/plain": [
              "<Figure size 640x480 with 2 Axes>"
            ],
            "image/png": "[encoded data removed]"
          },
          "metadata": {}
        }
      ]
    },
    {
      "cell_type": "markdown",
      "source": [
        "\n",
        "\n",
        "---\n",
        "\n"
      ],
      "metadata": {
        "id": "vGL73UJINrde"
      }
    },
    {
      "cell_type": "markdown",
      "source": [
        "**Q5.Generate a bar plot using Plotly**\n",
        "\n",
        "Ans:"
      ],
      "metadata": {
        "id": "RwFtMtQSNtFn"
      }
    },
    {
      "cell_type": "code",
      "source": [
        "import plotly.express as px\n",
        "\n",
        "# Sample data\n",
        "data = {\n",
        "    'Names': ['babbu', 'prince', 'sunny', 'rmn', 'prabjot'],\n",
        "    'Age': [10, 15, 7, 30, 22]\n",
        "}\n",
        "\n",
        "# now we create a data frame , first we import pandas\n",
        "import pandas as pd\n",
        "guri = pd.DataFrame(data)\n",
        "\n",
        "# now we Generate the bar plot\n",
        "fig = px.bar(guri, x='Names', y='Age', title='Bar Plot Example')\n",
        "\n",
        "# Show the plot\n",
        "fig.show()"
      ],
      "metadata": {
        "colab": {
          "base_uri": "https://localhost:8080/",
          "height": 542
        },
        "id": "n8KaTRI6NsFH",
        "outputId": "f0530907-6a81-4000-9b5d-f7d0f3706ecf"
      },
      "execution_count": 24,
      "outputs": [
        {
          "output_type": "display_data",
          "data": {
            "text/html": [
              "<html>\n",
              "<head><meta charset=\"utf-8\" /></head>\n",
              "<body>\n",
              "    <div>            <script src=\"https://cdnjs.cloudflare.com/ajax/libs/mathjax/2.7.5/MathJax.js?config=TeX-AMS-MML_SVG\"></script><script type=\"text/javascript\">if (window.MathJax && window.MathJax.Hub && window.MathJax.Hub.Config) {window.MathJax.Hub.Config({SVG: {font: \"STIX-Web\"}});}</script>                <script type=\"text/javascript\">window.PlotlyConfig = {MathJaxConfig: 'local'};</script>\n",
              "        <script charset=\"utf-8\" src=\"https://cdn.plot.ly/plotly-2.35.2.min.js\"></script>                <div id=\"add948f3-04c6-4eaa-9d14-66a1238d0110\" class=\"plotly-graph-div\" style=\"height:525px; width:100%;\"></div>            <script type=\"text/javascript\">                                    window.PLOTLYENV=window.PLOTLYENV || {};                                    if (document.getElementById(\"add948f3-04c6-4eaa-9d14-66a1238d0110\")) {                    Plotly.newPlot(                        \"add948f3-04c6-4eaa-9d14-66a1238d0110\",                        [{\"alignmentgroup\":\"True\",\"hovertemplate\":\"Names=%{x}\\u003cbr\\u003eAge=%{y}\\u003cextra\\u003e\\u003c\\u002fextra\\u003e\",\"legendgroup\":\"\",\"marker\":{\"color\":\"#636efa\",\"pattern\":{\"shape\":\"\"}},\"name\":\"\",\"offsetgroup\":\"\",\"orientation\":\"v\",\"showlegend\":false,\"textposition\":\"auto\",\"x\":[\"babbu\",\"prince\",\"sunny\",\"rmn\",\"prabjot\"],\"xaxis\":\"x\",\"y\":[10,15,7,30,22],\"yaxis\":\"y\",\"type\":\"bar\"}],                        {\"template\":{\"data\":{\"histogram2dcontour\":[{\"type\":\"histogram2dcontour\",\"colorbar\":{\"outlinewidth\":0,\"ticks\":\"\"},\"colorscale\":[[0.0,\"#0d0887\"],[0.1111111111111111,\"#46039f\"],[0.2222222222222222,\"#7201a8\"],[0.3333333333333333,\"#9c179e\"],[0.4444444444444444,\"#bd3786\"],[0.5555555555555556,\"#d8576b\"],[0.6666666666666666,\"#ed7953\"],[0.7777777777777778,\"#fb9f3a\"],[0.8888888888888888,\"#fdca26\"],[1.0,\"#f0f921\"]]}],\"choropleth\":[{\"type\":\"choropleth\",\"colorbar\":{\"outlinewidth\":0,\"ticks\":\"\"}}],\"histogram2d\":[{\"type\":\"histogram2d\",\"colorbar\":{\"outlinewidth\":0,\"ticks\":\"\"},\"colorscale\":[[0.0,\"#0d0887\"],[0.1111111111111111,\"#46039f\"],[0.2222222222222222,\"#7201a8\"],[0.3333333333333333,\"#9c179e\"],[0.4444444444444444,\"#bd3786\"],[0.5555555555555556,\"#d8576b\"],[0.6666666666666666,\"#ed7953\"],[0.7777777777777778,\"#fb9f3a\"],[0.8888888888888888,\"#fdca26\"],[1.0,\"#f0f921\"]]}],\"heatmap\":[{\"type\":\"heatmap\",\"colorbar\":{\"outlinewidth\":0,\"ticks\":\"\"},\"colorscale\":[[0.0,\"#0d0887\"],[0.1111111111111111,\"#46039f\"],[0.2222222222222222,\"#7201a8\"],[0.3333333333333333,\"#9c179e\"],[0.4444444444444444,\"#bd3786\"],[0.5555555555555556,\"#d8576b\"],[0.6666666666666666,\"#ed7953\"],[0.7777777777777778,\"#fb9f3a\"],[0.8888888888888888,\"#fdca26\"],[1.0,\"#f0f921\"]]}],\"heatmapgl\":[{\"type\":\"heatmapgl\",\"colorbar\":{\"outlinewidth\":0,\"ticks\":\"\"},\"colorscale\":[[0.0,\"#0d0887\"],[0.1111111111111111,\"#46039f\"],[0.2222222222222222,\"#7201a8\"],[0.3333333333333333,\"#9c179e\"],[0.4444444444444444,\"#bd3786\"],[0.5555555555555556,\"#d8576b\"],[0.6666666666666666,\"#ed7953\"],[0.7777777777777778,\"#fb9f3a\"],[0.8888888888888888,\"#fdca26\"],[1.0,\"#f0f921\"]]}],\"contourcarpet\":[{\"type\":\"contourcarpet\",\"colorbar\":{\"outlinewidth\":0,\"ticks\":\"\"}}],\"contour\":[{\"type\":\"contour\",\"colorbar\":{\"outlinewidth\":0,\"ticks\":\"\"},\"colorscale\":[[0.0,\"#0d0887\"],[0.1111111111111111,\"#46039f\"],[0.2222222222222222,\"#7201a8\"],[0.3333333333333333,\"#9c179e\"],[0.4444444444444444,\"#bd3786\"],[0.5555555555555556,\"#d8576b\"],[0.6666666666666666,\"#ed7953\"],[0.7777777777777778,\"#fb9f3a\"],[0.8888888888888888,\"#fdca26\"],[1.0,\"#f0f921\"]]}],\"surface\":[{\"type\":\"surface\",\"colorbar\":{\"outlinewidth\":0,\"ticks\":\"\"},\"colorscale\":[[0.0,\"#0d0887\"],[0.1111111111111111,\"#46039f\"],[0.2222222222222222,\"#7201a8\"],[0.3333333333333333,\"#9c179e\"],[0.4444444444444444,\"#bd3786\"],[0.5555555555555556,\"#d8576b\"],[0.6666666666666666,\"#ed7953\"],[0.7777777777777778,\"#fb9f3a\"],[0.8888888888888888,\"#fdca26\"],[1.0,\"#f0f921\"]]}],\"mesh3d\":[{\"type\":\"mesh3d\",\"colorbar\":{\"outlinewidth\":0,\"ticks\":\"\"}}],\"scatter\":[{\"fillpattern\":{\"fillmode\":\"overlay\",\"size\":10,\"solidity\":0.2},\"type\":\"scatter\"}],\"parcoords\":[{\"type\":\"parcoords\",\"line\":{\"colorbar\":{\"outlinewidth\":0,\"ticks\":\"\"}}}],\"scatterpolargl\":[{\"type\":\"scatterpolargl\",\"marker\":{\"colorbar\":{\"outlinewidth\":0,\"ticks\":\"\"}}}],\"bar\":[{\"error_x\":{\"color\":\"#2a3f5f\"},\"error_y\":{\"color\":\"#2a3f5f\"},\"marker\":{\"line\":{\"color\":\"#E5ECF6\",\"width\":0.5},\"pattern\":{\"fillmode\":\"overlay\",\"size\":10,\"solidity\":0.2}},\"type\":\"bar\"}],\"scattergeo\":[{\"type\":\"scattergeo\",\"marker\":{\"colorbar\":{\"outlinewidth\":0,\"ticks\":\"\"}}}],\"scatterpolar\":[{\"type\":\"scatterpolar\",\"marker\":{\"colorbar\":{\"outlinewidth\":0,\"ticks\":\"\"}}}],\"histogram\":[{\"marker\":{\"pattern\":{\"fillmode\":\"overlay\",\"size\":10,\"solidity\":0.2}},\"type\":\"histogram\"}],\"scattergl\":[{\"type\":\"scattergl\",\"marker\":{\"colorbar\":{\"outlinewidth\":0,\"ticks\":\"\"}}}],\"scatter3d\":[{\"type\":\"scatter3d\",\"line\":{\"colorbar\":{\"outlinewidth\":0,\"ticks\":\"\"}},\"marker\":{\"colorbar\":{\"outlinewidth\":0,\"ticks\":\"\"}}}],\"scattermapbox\":[{\"type\":\"scattermapbox\",\"marker\":{\"colorbar\":{\"outlinewidth\":0,\"ticks\":\"\"}}}],\"scatterternary\":[{\"type\":\"scatterternary\",\"marker\":{\"colorbar\":{\"outlinewidth\":0,\"ticks\":\"\"}}}],\"scattercarpet\":[{\"type\":\"scattercarpet\",\"marker\":{\"colorbar\":{\"outlinewidth\":0,\"ticks\":\"\"}}}],\"carpet\":[{\"aaxis\":{\"endlinecolor\":\"#2a3f5f\",\"gridcolor\":\"white\",\"linecolor\":\"white\",\"minorgridcolor\":\"white\",\"startlinecolor\":\"#2a3f5f\"},\"baxis\":{\"endlinecolor\":\"#2a3f5f\",\"gridcolor\":\"white\",\"linecolor\":\"white\",\"minorgridcolor\":\"white\",\"startlinecolor\":\"#2a3f5f\"},\"type\":\"carpet\"}],\"table\":[{\"cells\":{\"fill\":{\"color\":\"#EBF0F8\"},\"line\":{\"color\":\"white\"}},\"header\":{\"fill\":{\"color\":\"#C8D4E3\"},\"line\":{\"color\":\"white\"}},\"type\":\"table\"}],\"barpolar\":[{\"marker\":{\"line\":{\"color\":\"#E5ECF6\",\"width\":0.5},\"pattern\":{\"fillmode\":\"overlay\",\"size\":10,\"solidity\":0.2}},\"type\":\"barpolar\"}],\"pie\":[{\"automargin\":true,\"type\":\"pie\"}]},\"layout\":{\"autotypenumbers\":\"strict\",\"colorway\":[\"#636efa\",\"#EF553B\",\"#00cc96\",\"#ab63fa\",\"#FFA15A\",\"#19d3f3\",\"#FF6692\",\"#B6E880\",\"#FF97FF\",\"#FECB52\"],\"font\":{\"color\":\"#2a3f5f\"},\"hovermode\":\"closest\",\"hoverlabel\":{\"align\":\"left\"},\"paper_bgcolor\":\"white\",\"plot_bgcolor\":\"#E5ECF6\",\"polar\":{\"bgcolor\":\"#E5ECF6\",\"angularaxis\":{\"gridcolor\":\"white\",\"linecolor\":\"white\",\"ticks\":\"\"},\"radialaxis\":{\"gridcolor\":\"white\",\"linecolor\":\"white\",\"ticks\":\"\"}},\"ternary\":{\"bgcolor\":\"#E5ECF6\",\"aaxis\":{\"gridcolor\":\"white\",\"linecolor\":\"white\",\"ticks\":\"\"},\"baxis\":{\"gridcolor\":\"white\",\"linecolor\":\"white\",\"ticks\":\"\"},\"caxis\":{\"gridcolor\":\"white\",\"linecolor\":\"white\",\"ticks\":\"\"}},\"coloraxis\":{\"colorbar\":{\"outlinewidth\":0,\"ticks\":\"\"}},\"colorscale\":{\"sequential\":[[0.0,\"#0d0887\"],[0.1111111111111111,\"#46039f\"],[0.2222222222222222,\"#7201a8\"],[0.3333333333333333,\"#9c179e\"],[0.4444444444444444,\"#bd3786\"],[0.5555555555555556,\"#d8576b\"],[0.6666666666666666,\"#ed7953\"],[0.7777777777777778,\"#fb9f3a\"],[0.8888888888888888,\"#fdca26\"],[1.0,\"#f0f921\"]],\"sequentialminus\":[[0.0,\"#0d0887\"],[0.1111111111111111,\"#46039f\"],[0.2222222222222222,\"#7201a8\"],[0.3333333333333333,\"#9c179e\"],[0.4444444444444444,\"#bd3786\"],[0.5555555555555556,\"#d8576b\"],[0.6666666666666666,\"#ed7953\"],[0.7777777777777778,\"#fb9f3a\"],[0.8888888888888888,\"#fdca26\"],[1.0,\"#f0f921\"]],\"diverging\":[[0,\"#8e0152\"],[0.1,\"#c51b7d\"],[0.2,\"#de77ae\"],[0.3,\"#f1b6da\"],[0.4,\"#fde0ef\"],[0.5,\"#f7f7f7\"],[0.6,\"#e6f5d0\"],[0.7,\"#b8e186\"],[0.8,\"#7fbc41\"],[0.9,\"#4d9221\"],[1,\"#276419\"]]},\"xaxis\":{\"gridcolor\":\"white\",\"linecolor\":\"white\",\"ticks\":\"\",\"title\":{\"standoff\":15},\"zerolinecolor\":\"white\",\"automargin\":true,\"zerolinewidth\":2},\"yaxis\":{\"gridcolor\":\"white\",\"linecolor\":\"white\",\"ticks\":\"\",\"title\":{\"standoff\":15},\"zerolinecolor\":\"white\",\"automargin\":true,\"zerolinewidth\":2},\"scene\":{\"xaxis\":{\"backgroundcolor\":\"#E5ECF6\",\"gridcolor\":\"white\",\"linecolor\":\"white\",\"showbackground\":true,\"ticks\":\"\",\"zerolinecolor\":\"white\",\"gridwidth\":2},\"yaxis\":{\"backgroundcolor\":\"#E5ECF6\",\"gridcolor\":\"white\",\"linecolor\":\"white\",\"showbackground\":true,\"ticks\":\"\",\"zerolinecolor\":\"white\",\"gridwidth\":2},\"zaxis\":{\"backgroundcolor\":\"#E5ECF6\",\"gridcolor\":\"white\",\"linecolor\":\"white\",\"showbackground\":true,\"ticks\":\"\",\"zerolinecolor\":\"white\",\"gridwidth\":2}},\"shapedefaults\":{\"line\":{\"color\":\"#2a3f5f\"}},\"annotationdefaults\":{\"arrowcolor\":\"#2a3f5f\",\"arrowhead\":0,\"arrowwidth\":1},\"geo\":{\"bgcolor\":\"white\",\"landcolor\":\"#E5ECF6\",\"subunitcolor\":\"white\",\"showland\":true,\"showlakes\":true,\"lakecolor\":\"white\"},\"title\":{\"x\":0.05},\"mapbox\":{\"style\":\"light\"}}},\"xaxis\":{\"anchor\":\"y\",\"domain\":[0.0,1.0],\"title\":{\"text\":\"Names\"}},\"yaxis\":{\"anchor\":\"x\",\"domain\":[0.0,1.0],\"title\":{\"text\":\"Age\"}},\"legend\":{\"tracegroupgap\":0},\"title\":{\"text\":\"Bar Plot Example\"},\"barmode\":\"relative\"},                        {\"responsive\": true}                    ).then(function(){\n",
              "                            \n",
              "var gd = document.getElementById('add948f3-04c6-4eaa-9d14-66a1238d0110');\n",
              "var x = new MutationObserver(function (mutations, observer) {{\n",
              "        var display = window.getComputedStyle(gd).display;\n",
              "        if (!display || display === 'none') {{\n",
              "            console.log([gd, 'removed!']);\n",
              "            Plotly.purge(gd);\n",
              "            observer.disconnect();\n",
              "        }}\n",
              "}});\n",
              "\n",
              "// Listen for the removal of the full notebook cells\n",
              "var notebookContainer = gd.closest('#notebook-container');\n",
              "if (notebookContainer) {{\n",
              "    x.observe(notebookContainer, {childList: true});\n",
              "}}\n",
              "\n",
              "// Listen for the clearing of the current output cell\n",
              "var outputEl = gd.closest('.output');\n",
              "if (outputEl) {{\n",
              "    x.observe(outputEl, {childList: true});\n",
              "}}\n",
              "\n",
              "                        })                };                            </script>        </div>\n",
              "</body>\n",
              "</html>"
            ]
          },
          "metadata": {}
        }
      ]
    },
    {
      "cell_type": "markdown",
      "source": [
        "\n",
        "\n",
        "---\n",
        "\n"
      ],
      "metadata": {
        "id": "0I9pVXDhQO7G"
      }
    },
    {
      "cell_type": "markdown",
      "source": [
        "**Q6.Create a DataFrame and add a new column based on an existing column**\n",
        "\n",
        "Ans:"
      ],
      "metadata": {
        "id": "USHymmvmQQvP"
      }
    },
    {
      "cell_type": "code",
      "source": [
        "import pandas as pd\n",
        "\n",
        "# Create a DataFrame\n",
        "data = {\n",
        "    'Name': ['itachi', 'jariya', 'kakashi', 'sasuki', 'naruto'],\n",
        "    'Age': [24, 30, 22, 35, 28],\n",
        "    'Salary': [50000, 55000, 40000, 60000, 52000]\n",
        "}\n",
        "\n",
        "df = pd.DataFrame(data)\n",
        "\n",
        "# Add a new column 'Salary After Tax' based on the 'Salary' column\n",
        "# Let's assume a tax rate of 20%\n",
        "df['Salary After Tax'] = df['Salary'] * 0.80\n",
        "\n",
        "# Display the DataFrame\n",
        "print(df)"
      ],
      "metadata": {
        "colab": {
          "base_uri": "https://localhost:8080/"
        },
        "id": "_yFjz9YDQPtu",
        "outputId": "f7c8df3c-8ef6-4284-b3f1-ececdd750fe2"
      },
      "execution_count": 25,
      "outputs": [
        {
          "output_type": "stream",
          "name": "stdout",
          "text": [
            "      Name  Age  Salary  Salary After Tax\n",
            "0   itachi   24   50000           40000.0\n",
            "1   jariya   30   55000           44000.0\n",
            "2  kakashi   22   40000           32000.0\n",
            "3   sasuki   35   60000           48000.0\n",
            "4   naruto   28   52000           41600.0\n"
          ]
        }
      ]
    },
    {
      "cell_type": "markdown",
      "source": [
        "\n",
        "\n",
        "---\n",
        "\n"
      ],
      "metadata": {
        "id": "kSoUeQn4Q3Hf"
      }
    },
    {
      "cell_type": "markdown",
      "source": [
        "**Q7. Write a program to perform element-wise multiplication of two NumPy arrays**\n",
        "\n",
        "Ans:"
      ],
      "metadata": {
        "id": "eAU8XDClQ4V3"
      }
    },
    {
      "cell_type": "code",
      "source": [
        "import numpy as np\n",
        "\n",
        "# Create two NumPy arrays\n",
        "array1 = np.array([1, 2, 3, 4])\n",
        "array2 = np.array([5, 6, 7, 8])\n",
        "\n",
        "# Perform element-wise multiplication\n",
        "result = array1 * array2"
      ],
      "metadata": {
        "id": "IPRDv2f9Q3y3"
      },
      "execution_count": 28,
      "outputs": []
    },
    {
      "cell_type": "code",
      "source": [
        "np.multiply(array1,array2)"
      ],
      "metadata": {
        "colab": {
          "base_uri": "https://localhost:8080/"
        },
        "id": "k-3xis04RWue",
        "outputId": "736428ae-c902-4c8b-ed57-1c0249ede710"
      },
      "execution_count": 29,
      "outputs": [
        {
          "output_type": "execute_result",
          "data": {
            "text/plain": [
              "array([ 5, 12, 21, 32])"
            ]
          },
          "metadata": {},
          "execution_count": 29
        }
      ]
    },
    {
      "cell_type": "markdown",
      "source": [
        "\n",
        "\n",
        "---\n",
        "\n"
      ],
      "metadata": {
        "id": "HoHHVSfQRZuP"
      }
    },
    {
      "cell_type": "markdown",
      "source": [
        "**Q8.Create a line plot with multiple lines using Matplotlib**\n",
        "\n",
        "Ans:"
      ],
      "metadata": {
        "id": "dt6E4zhxRa4-"
      }
    },
    {
      "cell_type": "code",
      "source": [
        "import matplotlib.pyplot as plt\n",
        "\n",
        "# Sample data for multiple lines\n",
        "x = [1, 2, 3, 4, 5]\n",
        "y1 = [1, 4, 9, 16, 25]   # Line 1: y = x^2\n",
        "y2 = [25, 20, 15, 10, 5]  # Line 2: Linear decreasing\n",
        "y3 = [5, 10, 15, 20, 25]  # Line 3: Linear increasing\n",
        "\n",
        "# Create line plot with multiple lines\n",
        "plt.plot(x, y1, label='y = x^2', color='blue', marker='o')  # Plot line 1\n",
        "plt.plot(x, y2, label='Linear Decrease', color='red', marker='x')  # Plot line 2\n",
        "plt.plot(x, y3, label='Linear Increase', color='green', marker='s')  # Plot line 3\n",
        "\n",
        "# Add labels and title\n",
        "plt.xlabel('X-axis')\n",
        "plt.ylabel('Y-axis')\n",
        "plt.title('Line Plot with Multiple Lines')\n",
        "\n",
        "# Display legend\n",
        "plt.legend()\n",
        "\n",
        "# Show the plot\n",
        "plt.show()"
      ],
      "metadata": {
        "colab": {
          "base_uri": "https://localhost:8080/",
          "height": 472
        },
        "id": "h08ZN5ERRY41",
        "outputId": "cd30d43f-f449-492e-f998-394f5c5369a7"
      },
      "execution_count": 30,
      "outputs": [
        {
          "output_type": "display_data",
          "data": {
            "text/plain": [
              "<Figure size 640x480 with 1 Axes>"
            ],
            "image/png": "[encoded data removed]"
          },
          "metadata": {}
        }
      ]
    },
    {
      "cell_type": "markdown",
      "source": [
        "\n",
        "\n",
        "---\n",
        "\n"
      ],
      "metadata": {
        "id": "gRzwYVo3SPUu"
      }
    },
    {
      "cell_type": "markdown",
      "source": [
        "**Q9. Generate a Pandas DataFrame and filter rows where a column value is greater than a threshold**\n",
        "\n",
        "Ans:"
      ],
      "metadata": {
        "id": "w8Nd2RCHSQ6f"
      }
    },
    {
      "cell_type": "code",
      "source": [
        "import pandas as pd\n",
        "\n",
        "# Create a sample DataFrame\n",
        "data = {\n",
        "    'Name': ['gurwinder', 'prabjot', 'rmn', 'sunny', 'prince'],\n",
        "    'Age': [24, 30, 22, 35, 28],\n",
        "    'Salary': [50000, 55000, 40000, 60000, 52000]\n",
        "}\n",
        "\n",
        "df = pd.DataFrame(data)\n",
        "\n",
        "# Set a threshold for filtering rows based on the 'Age' column\n",
        "age_threshold = 25\n",
        "\n",
        "# Filter rows where 'Age' is greater than the threshold\n",
        "filtered_df = df[df['Age'] > age_threshold]\n",
        "\n",
        "# Display the filtered DataFrame\n",
        "print(filtered_df)"
      ],
      "metadata": {
        "colab": {
          "base_uri": "https://localhost:8080/"
        },
        "id": "VTi4BP_YSQDV",
        "outputId": "4e5b0aae-0cdd-4ca1-a2d7-fceedfa7b87e"
      },
      "execution_count": 31,
      "outputs": [
        {
          "output_type": "stream",
          "name": "stdout",
          "text": [
            "      Name  Age  Salary\n",
            "1  prabjot   30   55000\n",
            "3    sunny   35   60000\n",
            "4   prince   28   52000\n"
          ]
        }
      ]
    },
    {
      "cell_type": "markdown",
      "source": [
        "\n",
        "\n",
        "---\n",
        "\n"
      ],
      "metadata": {
        "id": "bgv52nmwTK1-"
      }
    },
    {
      "cell_type": "markdown",
      "source": [
        "**Q10.A Create a histogram using Seaborn to visualize a distribution**\n",
        "\n",
        "Ans:"
      ],
      "metadata": {
        "id": "DlYOiu-tTMJf"
      }
    },
    {
      "cell_type": "code",
      "source": [
        "import seaborn as sns\n",
        "import matplotlib.pyplot as plt\n",
        "\n",
        "# Sample data\n",
        "data = [10, 20, 20, 30, 30, 30, 40, 50, 60, 60, 60, 70, 80, 90, 100]\n",
        "\n",
        "# Create the histogram\n",
        "sns.histplot(data, bins=10, kde=True, color='skyblue')\n",
        "\n",
        "# Add labels and title\n",
        "plt.xlabel('Value')\n",
        "plt.ylabel('Frequency')\n",
        "plt.title('Histogram of Sample Data')\n",
        "\n",
        "# Display the plot\n",
        "plt.show()"
      ],
      "metadata": {
        "colab": {
          "base_uri": "https://localhost:8080/",
          "height": 472
        },
        "id": "T75KoZuETLae",
        "outputId": "0b2833bd-7413-4a28-e6e8-f84979b5e03b"
      },
      "execution_count": 32,
      "outputs": [
        {
          "output_type": "display_data",
          "data": {
            "text/plain": [
              "<Figure size 640x480 with 1 Axes>"
            ],
            "image/png": "[encoded data removed]"
          },
          "metadata": {}
        }
      ]
    },
    {
      "cell_type": "markdown",
      "source": [
        "\n",
        "\n",
        "---\n",
        "\n"
      ],
      "metadata": {
        "id": "xpYTrI94Tikm"
      }
    },
    {
      "cell_type": "markdown",
      "source": [
        "**Q11.Perform matrix multiplication using NumPy**\n",
        "\n",
        "Ans:"
      ],
      "metadata": {
        "id": "1nf-qRaCTjxv"
      }
    },
    {
      "cell_type": "code",
      "source": [
        "import numpy as np\n",
        "\n",
        "# Define two matrices\n",
        "matrix1 = np.array([[1, 2],\n",
        "                    [3, 4]])\n",
        "\n",
        "matrix2 = np.array([[5, 6],\n",
        "                    [7, 8]])"
      ],
      "metadata": {
        "id": "b3qRvft5TjQI"
      },
      "execution_count": 33,
      "outputs": []
    },
    {
      "cell_type": "code",
      "source": [
        "np.dot(matrix1,matrix2)"
      ],
      "metadata": {
        "colab": {
          "base_uri": "https://localhost:8080/"
        },
        "id": "Y89iB02uTxoV",
        "outputId": "a78e668b-cd7d-424a-9b84-70487558539e"
      },
      "execution_count": 34,
      "outputs": [
        {
          "output_type": "execute_result",
          "data": {
            "text/plain": [
              "array([[19, 22],\n",
              "       [43, 50]])"
            ]
          },
          "metadata": {},
          "execution_count": 34
        }
      ]
    },
    {
      "cell_type": "markdown",
      "source": [
        "\n",
        "\n",
        "---\n",
        "\n"
      ],
      "metadata": {
        "id": "5kklTAlpT67e"
      }
    },
    {
      "cell_type": "markdown",
      "source": [
        "**Q12.Use Pandas to load a CSV file and display its first 5 rows**\n",
        "\n",
        "Ans:"
      ],
      "metadata": {
        "id": "07hyFh76T8LW"
      }
    },
    {
      "cell_type": "code",
      "source": [
        "import pandas as pd\n",
        "\n",
        "df=pd.read_csv(\"taxonomy.csv\")\n",
        "\n",
        "# for first 5 rows we use head()\n",
        "\n",
        "df.head()\n",
        "\n"
      ],
      "metadata": {
        "colab": {
          "base_uri": "https://localhost:8080/",
          "height": 206
        },
        "id": "ZXkrw3hvT7jl",
        "outputId": "d595fd41-2563-4f30-db91-82b783757c02"
      },
      "execution_count": 35,
      "outputs": [
        {
          "output_type": "execute_result",
          "data": {
            "text/plain": [
              "  taxonomy_id                     name parent_id     parent_name\n",
              "0         101                Emergency       NaN             NaN\n",
              "1      101-01        Disaster Response       101       Emergency\n",
              "2      101-02           Emergency Cash       101       Emergency\n",
              "3   101-02-01        Help Pay for Food    101-02  Emergency Cash\n",
              "4   101-02-02  Help Pay for Healthcare    101-02  Emergency Cash"
            ],
            "text/html": [
              "\n",
              "  <div id=\"df-bd28c0a0-da46-4a47-9646-190e16753e31\" class=\"colab-df-container\">\n",
              "    <div>\n",
              "<style scoped>\n",
              "    .dataframe tbody tr th:only-of-type {\n",
              "        vertical-align: middle;\n",
              "    }\n",
              "\n",
              "    .dataframe tbody tr th {\n",
              "        vertical-align: top;\n",
              "    }\n",
              "\n",
              "    .dataframe thead th {\n",
              "        text-align: right;\n",
              "    }\n",
              "</style>\n",
              "<table border=\"1\" class=\"dataframe\">\n",
              "  <thead>\n",
              "    <tr style=\"text-align: right;\">\n",
              "      <th></th>\n",
              "      <th>taxonomy_id</th>\n",
              "      <th>name</th>\n",
              "      <th>parent_id</th>\n",
              "      <th>parent_name</th>\n",
              "    </tr>\n",
              "  </thead>\n",
              "  <tbody>\n",
              "    <tr>\n",
              "      <th>0</th>\n",
              "      <td>101</td>\n",
              "      <td>Emergency</td>\n",
              "      <td>NaN</td>\n",
              "      <td>NaN</td>\n",
              "    </tr>\n",
              "    <tr>\n",
              "      <th>1</th>\n",
              "      <td>101-01</td>\n",
              "      <td>Disaster Response</td>\n",
              "      <td>101</td>\n",
              "      <td>Emergency</td>\n",
              "    </tr>\n",
              "    <tr>\n",
              "      <th>2</th>\n",
              "      <td>101-02</td>\n",
              "      <td>Emergency Cash</td>\n",
              "      <td>101</td>\n",
              "      <td>Emergency</td>\n",
              "    </tr>\n",
              "    <tr>\n",
              "      <th>3</th>\n",
              "      <td>101-02-01</td>\n",
              "      <td>Help Pay for Food</td>\n",
              "      <td>101-02</td>\n",
              "      <td>Emergency Cash</td>\n",
              "    </tr>\n",
              "    <tr>\n",
              "      <th>4</th>\n",
              "      <td>101-02-02</td>\n",
              "      <td>Help Pay for Healthcare</td>\n",
              "      <td>101-02</td>\n",
              "      <td>Emergency Cash</td>\n",
              "    </tr>\n",
              "  </tbody>\n",
              "</table>\n",
              "</div>\n",
              "    <div class=\"colab-df-buttons\">\n",
              "\n",
              "  <div class=\"colab-df-container\">\n",
              "    <button class=\"colab-df-convert\" onclick=\"convertToInteractive('df-bd28c0a0-da46-4a47-9646-190e16753e31')\"\n",
              "            title=\"Convert this dataframe to an interactive table.\"\n",
              "            style=\"display:none;\">\n",
              "\n",
              "  <svg xmlns=\"http://www.w3.org/2000/svg\" height=\"24px\" viewBox=\"0 -960 960 960\">\n",
              "    <path d=\"M120-120v-720h720v720H120Zm60-500h600v-160H180v160Zm220 220h160v-160H400v160Zm0 220h160v-160H400v160ZM180-400h160v-160H180v160Zm440 0h160v-160H620v160ZM180-180h160v-160H180v160Zm440 0h160v-160H620v160Z\"/>\n",
              "  </svg>\n",
              "    </button>\n",
              "\n",
              "  <style>\n",
              "    .colab-df-container {\n",
              "      display:flex;\n",
              "      gap: 12px;\n",
              "    }\n",
              "\n",
              "    .colab-df-convert {\n",
              "      background-color: #E8F0FE;\n",
              "      border: none;\n",
              "      border-radius: 50%;\n",
              "      cursor: pointer;\n",
              "      display: none;\n",
              "      fill: #1967D2;\n",
              "      height: 32px;\n",
              "      padding: 0 0 0 0;\n",
              "      width: 32px;\n",
              "    }\n",
              "\n",
              "    .colab-df-convert:hover {\n",
              "      background-color: #E2EBFA;\n",
              "      box-shadow: 0px 1px 2px rgba(60, 64, 67, 0.3), 0px 1px 3px 1px rgba(60, 64, 67, 0.15);\n",
              "      fill: #174EA6;\n",
              "    }\n",
              "\n",
              "    .colab-df-buttons div {\n",
              "      margin-bottom: 4px;\n",
              "    }\n",
              "\n",
              "    [theme=dark] .colab-df-convert {\n",
              "      background-color: #3B4455;\n",
              "      fill: #D2E3FC;\n",
              "    }\n",
              "\n",
              "    [theme=dark] .colab-df-convert:hover {\n",
              "      background-color: #434B5C;\n",
              "      box-shadow: 0px 1px 3px 1px rgba(0, 0, 0, 0.15);\n",
              "      filter: drop-shadow(0px 1px 2px rgba(0, 0, 0, 0.3));\n",
              "      fill: #FFFFFF;\n",
              "    }\n",
              "  </style>\n",
              "\n",
              "    <script>\n",
              "      const buttonEl =\n",
              "        document.querySelector('#df-bd28c0a0-da46-4a47-9646-190e16753e31 button.colab-df-convert');\n",
              "      buttonEl.style.display =\n",
              "        google.colab.kernel.accessAllowed ? 'block' : 'none';\n",
              "\n",
              "      async function convertToInteractive(key) {\n",
              "        const element = document.querySelector('#df-bd28c0a0-da46-4a47-9646-190e16753e31');\n",
              "        const dataTable =\n",
              "          await google.colab.kernel.invokeFunction('convertToInteractive',\n",
              "                                                    [key], {});\n",
              "        if (!dataTable) return;\n",
              "\n",
              "        const docLinkHtml = 'Like what you see? Visit the ' +\n",
              "          '<a target=\"_blank\" href=https://colab.research.google.com/notebooks/data_table.ipynb>data table notebook</a>'\n",
              "          + ' to learn more about interactive tables.';\n",
              "        element.innerHTML = '';\n",
              "        dataTable['output_type'] = 'display_data';\n",
              "        await google.colab.output.renderOutput(dataTable, element);\n",
              "        const docLink = document.createElement('div');\n",
              "        docLink.innerHTML = docLinkHtml;\n",
              "        element.appendChild(docLink);\n",
              "      }\n",
              "    </script>\n",
              "  </div>\n",
              "\n",
              "\n",
              "<div id=\"df-fab6615c-8547-4cac-b1a5-0e7c5c9c0e2b\">\n",
              "  <button class=\"colab-df-quickchart\" onclick=\"quickchart('df-fab6615c-8547-4cac-b1a5-0e7c5c9c0e2b')\"\n",
              "            title=\"Suggest charts\"\n",
              "            style=\"display:none;\">\n",
              "\n",
              "<svg xmlns=\"http://www.w3.org/2000/svg\" height=\"24px\"viewBox=\"0 0 24 24\"\n",
              "     width=\"24px\">\n",
              "    <g>\n",
              "        <path d=\"M19 3H5c-1.1 0-2 .9-2 2v14c0 1.1.9 2 2 2h14c1.1 0 2-.9 2-2V5c0-1.1-.9-2-2-2zM9 17H7v-7h2v7zm4 0h-2V7h2v10zm4 0h-2v-4h2v4z\"/>\n",
              "    </g>\n",
              "</svg>\n",
              "  </button>\n",
              "\n",
              "<style>\n",
              "  .colab-df-quickchart {\n",
              "      --bg-color: #E8F0FE;\n",
              "      --fill-color: #1967D2;\n",
              "      --hover-bg-color: #E2EBFA;\n",
              "      --hover-fill-color: #174EA6;\n",
              "      --disabled-fill-color: #AAA;\n",
              "      --disabled-bg-color: #DDD;\n",
              "  }\n",
              "\n",
              "  [theme=dark] .colab-df-quickchart {\n",
              "      --bg-color: #3B4455;\n",
              "      --fill-color: #D2E3FC;\n",
              "      --hover-bg-color: #434B5C;\n",
              "      --hover-fill-color: #FFFFFF;\n",
              "      --disabled-bg-color: #3B4455;\n",
              "      --disabled-fill-color: #666;\n",
              "  }\n",
              "\n",
              "  .colab-df-quickchart {\n",
              "    background-color: var(--bg-color);\n",
              "    border: none;\n",
              "    border-radius: 50%;\n",
              "    cursor: pointer;\n",
              "    display: none;\n",
              "    fill: var(--fill-color);\n",
              "    height: 32px;\n",
              "    padding: 0;\n",
              "    width: 32px;\n",
              "  }\n",
              "\n",
              "  .colab-df-quickchart:hover {\n",
              "    background-color: var(--hover-bg-color);\n",
              "    box-shadow: 0 1px 2px rgba(60, 64, 67, 0.3), 0 1px 3px 1px rgba(60, 64, 67, 0.15);\n",
              "    fill: var(--button-hover-fill-color);\n",
              "  }\n",
              "\n",
              "  .colab-df-quickchart-complete:disabled,\n",
              "  .colab-df-quickchart-complete:disabled:hover {\n",
              "    background-color: var(--disabled-bg-color);\n",
              "    fill: var(--disabled-fill-color);\n",
              "    box-shadow: none;\n",
              "  }\n",
              "\n",
              "  .colab-df-spinner {\n",
              "    border: 2px solid var(--fill-color);\n",
              "    border-color: transparent;\n",
              "    border-bottom-color: var(--fill-color);\n",
              "    animation:\n",
              "      spin 1s steps(1) infinite;\n",
              "  }\n",
              "\n",
              "  @keyframes spin {\n",
              "    0% {\n",
              "      border-color: transparent;\n",
              "      border-bottom-color: var(--fill-color);\n",
              "      border-left-color: var(--fill-color);\n",
              "    }\n",
              "    20% {\n",
              "      border-color: transparent;\n",
              "      border-left-color: var(--fill-color);\n",
              "      border-top-color: var(--fill-color);\n",
              "    }\n",
              "    30% {\n",
              "      border-color: transparent;\n",
              "      border-left-color: var(--fill-color);\n",
              "      border-top-color: var(--fill-color);\n",
              "      border-right-color: var(--fill-color);\n",
              "    }\n",
              "    40% {\n",
              "      border-color: transparent;\n",
              "      border-right-color: var(--fill-color);\n",
              "      border-top-color: var(--fill-color);\n",
              "    }\n",
              "    60% {\n",
              "      border-color: transparent;\n",
              "      border-right-color: var(--fill-color);\n",
              "    }\n",
              "    80% {\n",
              "      border-color: transparent;\n",
              "      border-right-color: var(--fill-color);\n",
              "      border-bottom-color: var(--fill-color);\n",
              "    }\n",
              "    90% {\n",
              "      border-color: transparent;\n",
              "      border-bottom-color: var(--fill-color);\n",
              "    }\n",
              "  }\n",
              "</style>\n",
              "\n",
              "  <script>\n",
              "    async function quickchart(key) {\n",
              "      const quickchartButtonEl =\n",
              "        document.querySelector('#' + key + ' button');\n",
              "      quickchartButtonEl.disabled = true;  // To prevent multiple clicks.\n",
              "      quickchartButtonEl.classList.add('colab-df-spinner');\n",
              "      try {\n",
              "        const charts = await google.colab.kernel.invokeFunction(\n",
              "            'suggestCharts', [key], {});\n",
              "      } catch (error) {\n",
              "        console.error('Error during call to suggestCharts:', error);\n",
              "      }\n",
              "      quickchartButtonEl.classList.remove('colab-df-spinner');\n",
              "      quickchartButtonEl.classList.add('colab-df-quickchart-complete');\n",
              "    }\n",
              "    (() => {\n",
              "      let quickchartButtonEl =\n",
              "        document.querySelector('#df-fab6615c-8547-4cac-b1a5-0e7c5c9c0e2b button');\n",
              "      quickchartButtonEl.style.display =\n",
              "        google.colab.kernel.accessAllowed ? 'block' : 'none';\n",
              "    })();\n",
              "  </script>\n",
              "</div>\n",
              "\n",
              "    </div>\n",
              "  </div>\n"
            ],
            "application/vnd.google.colaboratory.intrinsic+json": {
              "type": "dataframe",
              "variable_name": "df",
              "summary": "{\n  \"name\": \"df\",\n  \"rows\": 290,\n  \"fields\": [\n    {\n      \"column\": \"taxonomy_id\",\n      \"properties\": {\n        \"dtype\": \"string\",\n        \"num_unique_values\": 290,\n        \"samples\": [\n          \"106-04\",\n          \"110-02\",\n          \"103-05-04-02\"\n        ],\n        \"semantic_type\": \"\",\n        \"description\": \"\"\n      }\n    },\n    {\n      \"column\": \"name\",\n      \"properties\": {\n        \"dtype\": \"string\",\n        \"num_unique_values\": 183,\n        \"samples\": [\n          \"Food Pantry\",\n          \"Diapers & Formula\",\n          \"English as a Second Language (ESL)\"\n        ],\n        \"semantic_type\": \"\",\n        \"description\": \"\"\n      }\n    },\n    {\n      \"column\": \"parent_id\",\n      \"properties\": {\n        \"dtype\": \"category\",\n        \"num_unique_values\": 60,\n        \"samples\": [\n          \"101\",\n          \"103\",\n          \"107-06\"\n        ],\n        \"semantic_type\": \"\",\n        \"description\": \"\"\n      }\n    },\n    {\n      \"column\": \"parent_name\",\n      \"properties\": {\n        \"dtype\": \"category\",\n        \"num_unique_values\": 50,\n        \"samples\": [\n          \"Clothing\",\n          \"Support Network\",\n          \"Government Benefits\"\n        ],\n        \"semantic_type\": \"\",\n        \"description\": \"\"\n      }\n    }\n  ]\n}"
            }
          },
          "metadata": {},
          "execution_count": 35
        }
      ]
    },
    {
      "cell_type": "markdown",
      "source": [
        "\n",
        "\n",
        "---\n",
        "\n"
      ],
      "metadata": {
        "id": "6fQHwXhbU7b_"
      }
    },
    {
      "cell_type": "markdown",
      "source": [
        "**Q13.A Create a 3D scatter plot using Plotly.**\n",
        "\n",
        "Ans:"
      ],
      "metadata": {
        "id": "Z5W9zXBlU9uv"
      }
    },
    {
      "cell_type": "code",
      "source": [
        "import plotly.express as px\n",
        "import pandas as pd\n",
        "\n",
        "# Sample data for the 3D scatter plot\n",
        "data = {\n",
        "    'X': [1, 2, 3, 4, 5],\n",
        "    'Y': [10, 11, 12, 13, 14],\n",
        "    'Z': [5, 4, 3, 2, 1],\n",
        "    'Color': ['red', 'green', 'blue', 'orange', 'purple']  # Color to differentiate points\n",
        "}\n",
        "\n",
        "# Create a DataFrame\n",
        "df = pd.DataFrame(data)\n",
        "\n",
        "# Create the 3D scatter plot\n",
        "fig = px.scatter_3d(df, x='X', y='Y', z='Z', color='Color', title='3D Scatter Plot')\n",
        "\n",
        "# Show the plot\n",
        "fig.show()"
      ],
      "metadata": {
        "colab": {
          "base_uri": "https://localhost:8080/",
          "height": 542
        },
        "id": "32HzCq4uU8DO",
        "outputId": "a6cd8d68-1df3-4e51-addc-0651ef4f0e0e"
      },
      "execution_count": 36,
      "outputs": [
        {
          "output_type": "display_data",
          "data": {
            "text/html": [
              "<html>\n",
              "<head><meta charset=\"utf-8\" /></head>\n",
              "<body>\n",
              "    <div>            <script src=\"https://cdnjs.cloudflare.com/ajax/libs/mathjax/2.7.5/MathJax.js?config=TeX-AMS-MML_SVG\"></script><script type=\"text/javascript\">if (window.MathJax && window.MathJax.Hub && window.MathJax.Hub.Config) {window.MathJax.Hub.Config({SVG: {font: \"STIX-Web\"}});}</script>                <script type=\"text/javascript\">window.PlotlyConfig = {MathJaxConfig: 'local'};</script>\n",
              "        <script charset=\"utf-8\" src=\"https://cdn.plot.ly/plotly-2.35.2.min.js\"></script>                <div id=\"e19a02fb-8d37-4175-9c87-bff531da4994\" class=\"plotly-graph-div\" style=\"height:525px; width:100%;\"></div>            <script type=\"text/javascript\">                                    window.PLOTLYENV=window.PLOTLYENV || {};                                    if (document.getElementById(\"e19a02fb-8d37-4175-9c87-bff531da4994\")) {                    Plotly.newPlot(                        \"e19a02fb-8d37-4175-9c87-bff531da4994\",                        [{\"hovertemplate\":\"Color=red\\u003cbr\\u003eX=%{x}\\u003cbr\\u003eY=%{y}\\u003cbr\\u003eZ=%{z}\\u003cextra\\u003e\\u003c\\u002fextra\\u003e\",\"legendgroup\":\"red\",\"marker\":{\"color\":\"#636efa\",\"symbol\":\"circle\"},\"mode\":\"markers\",\"name\":\"red\",\"scene\":\"scene\",\"showlegend\":true,\"x\":[1],\"y\":[10],\"z\":[5],\"type\":\"scatter3d\"},{\"hovertemplate\":\"Color=green\\u003cbr\\u003eX=%{x}\\u003cbr\\u003eY=%{y}\\u003cbr\\u003eZ=%{z}\\u003cextra\\u003e\\u003c\\u002fextra\\u003e\",\"legendgroup\":\"green\",\"marker\":{\"color\":\"#EF553B\",\"symbol\":\"circle\"},\"mode\":\"markers\",\"name\":\"green\",\"scene\":\"scene\",\"showlegend\":true,\"x\":[2],\"y\":[11],\"z\":[4],\"type\":\"scatter3d\"},{\"hovertemplate\":\"Color=blue\\u003cbr\\u003eX=%{x}\\u003cbr\\u003eY=%{y}\\u003cbr\\u003eZ=%{z}\\u003cextra\\u003e\\u003c\\u002fextra\\u003e\",\"legendgroup\":\"blue\",\"marker\":{\"color\":\"#00cc96\",\"symbol\":\"circle\"},\"mode\":\"markers\",\"name\":\"blue\",\"scene\":\"scene\",\"showlegend\":true,\"x\":[3],\"y\":[12],\"z\":[3],\"type\":\"scatter3d\"},{\"hovertemplate\":\"Color=orange\\u003cbr\\u003eX=%{x}\\u003cbr\\u003eY=%{y}\\u003cbr\\u003eZ=%{z}\\u003cextra\\u003e\\u003c\\u002fextra\\u003e\",\"legendgroup\":\"orange\",\"marker\":{\"color\":\"#ab63fa\",\"symbol\":\"circle\"},\"mode\":\"markers\",\"name\":\"orange\",\"scene\":\"scene\",\"showlegend\":true,\"x\":[4],\"y\":[13],\"z\":[2],\"type\":\"scatter3d\"},{\"hovertemplate\":\"Color=purple\\u003cbr\\u003eX=%{x}\\u003cbr\\u003eY=%{y}\\u003cbr\\u003eZ=%{z}\\u003cextra\\u003e\\u003c\\u002fextra\\u003e\",\"legendgroup\":\"purple\",\"marker\":{\"color\":\"#FFA15A\",\"symbol\":\"circle\"},\"mode\":\"markers\",\"name\":\"purple\",\"scene\":\"scene\",\"showlegend\":true,\"x\":[5],\"y\":[14],\"z\":[1],\"type\":\"scatter3d\"}],                        {\"template\":{\"data\":{\"histogram2dcontour\":[{\"type\":\"histogram2dcontour\",\"colorbar\":{\"outlinewidth\":0,\"ticks\":\"\"},\"colorscale\":[[0.0,\"#0d0887\"],[0.1111111111111111,\"#46039f\"],[0.2222222222222222,\"#7201a8\"],[0.3333333333333333,\"#9c179e\"],[0.4444444444444444,\"#bd3786\"],[0.5555555555555556,\"#d8576b\"],[0.6666666666666666,\"#ed7953\"],[0.7777777777777778,\"#fb9f3a\"],[0.8888888888888888,\"#fdca26\"],[1.0,\"#f0f921\"]]}],\"choropleth\":[{\"type\":\"choropleth\",\"colorbar\":{\"outlinewidth\":0,\"ticks\":\"\"}}],\"histogram2d\":[{\"type\":\"histogram2d\",\"colorbar\":{\"outlinewidth\":0,\"ticks\":\"\"},\"colorscale\":[[0.0,\"#0d0887\"],[0.1111111111111111,\"#46039f\"],[0.2222222222222222,\"#7201a8\"],[0.3333333333333333,\"#9c179e\"],[0.4444444444444444,\"#bd3786\"],[0.5555555555555556,\"#d8576b\"],[0.6666666666666666,\"#ed7953\"],[0.7777777777777778,\"#fb9f3a\"],[0.8888888888888888,\"#fdca26\"],[1.0,\"#f0f921\"]]}],\"heatmap\":[{\"type\":\"heatmap\",\"colorbar\":{\"outlinewidth\":0,\"ticks\":\"\"},\"colorscale\":[[0.0,\"#0d0887\"],[0.1111111111111111,\"#46039f\"],[0.2222222222222222,\"#7201a8\"],[0.3333333333333333,\"#9c179e\"],[0.4444444444444444,\"#bd3786\"],[0.5555555555555556,\"#d8576b\"],[0.6666666666666666,\"#ed7953\"],[0.7777777777777778,\"#fb9f3a\"],[0.8888888888888888,\"#fdca26\"],[1.0,\"#f0f921\"]]}],\"heatmapgl\":[{\"type\":\"heatmapgl\",\"colorbar\":{\"outlinewidth\":0,\"ticks\":\"\"},\"colorscale\":[[0.0,\"#0d0887\"],[0.1111111111111111,\"#46039f\"],[0.2222222222222222,\"#7201a8\"],[0.3333333333333333,\"#9c179e\"],[0.4444444444444444,\"#bd3786\"],[0.5555555555555556,\"#d8576b\"],[0.6666666666666666,\"#ed7953\"],[0.7777777777777778,\"#fb9f3a\"],[0.8888888888888888,\"#fdca26\"],[1.0,\"#f0f921\"]]}],\"contourcarpet\":[{\"type\":\"contourcarpet\",\"colorbar\":{\"outlinewidth\":0,\"ticks\":\"\"}}],\"contour\":[{\"type\":\"contour\",\"colorbar\":{\"outlinewidth\":0,\"ticks\":\"\"},\"colorscale\":[[0.0,\"#0d0887\"],[0.1111111111111111,\"#46039f\"],[0.2222222222222222,\"#7201a8\"],[0.3333333333333333,\"#9c179e\"],[0.4444444444444444,\"#bd3786\"],[0.5555555555555556,\"#d8576b\"],[0.6666666666666666,\"#ed7953\"],[0.7777777777777778,\"#fb9f3a\"],[0.8888888888888888,\"#fdca26\"],[1.0,\"#f0f921\"]]}],\"surface\":[{\"type\":\"surface\",\"colorbar\":{\"outlinewidth\":0,\"ticks\":\"\"},\"colorscale\":[[0.0,\"#0d0887\"],[0.1111111111111111,\"#46039f\"],[0.2222222222222222,\"#7201a8\"],[0.3333333333333333,\"#9c179e\"],[0.4444444444444444,\"#bd3786\"],[0.5555555555555556,\"#d8576b\"],[0.6666666666666666,\"#ed7953\"],[0.7777777777777778,\"#fb9f3a\"],[0.8888888888888888,\"#fdca26\"],[1.0,\"#f0f921\"]]}],\"mesh3d\":[{\"type\":\"mesh3d\",\"colorbar\":{\"outlinewidth\":0,\"ticks\":\"\"}}],\"scatter\":[{\"fillpattern\":{\"fillmode\":\"overlay\",\"size\":10,\"solidity\":0.2},\"type\":\"scatter\"}],\"parcoords\":[{\"type\":\"parcoords\",\"line\":{\"colorbar\":{\"outlinewidth\":0,\"ticks\":\"\"}}}],\"scatterpolargl\":[{\"type\":\"scatterpolargl\",\"marker\":{\"colorbar\":{\"outlinewidth\":0,\"ticks\":\"\"}}}],\"bar\":[{\"error_x\":{\"color\":\"#2a3f5f\"},\"error_y\":{\"color\":\"#2a3f5f\"},\"marker\":{\"line\":{\"color\":\"#E5ECF6\",\"width\":0.5},\"pattern\":{\"fillmode\":\"overlay\",\"size\":10,\"solidity\":0.2}},\"type\":\"bar\"}],\"scattergeo\":[{\"type\":\"scattergeo\",\"marker\":{\"colorbar\":{\"outlinewidth\":0,\"ticks\":\"\"}}}],\"scatterpolar\":[{\"type\":\"scatterpolar\",\"marker\":{\"colorbar\":{\"outlinewidth\":0,\"ticks\":\"\"}}}],\"histogram\":[{\"marker\":{\"pattern\":{\"fillmode\":\"overlay\",\"size\":10,\"solidity\":0.2}},\"type\":\"histogram\"}],\"scattergl\":[{\"type\":\"scattergl\",\"marker\":{\"colorbar\":{\"outlinewidth\":0,\"ticks\":\"\"}}}],\"scatter3d\":[{\"type\":\"scatter3d\",\"line\":{\"colorbar\":{\"outlinewidth\":0,\"ticks\":\"\"}},\"marker\":{\"colorbar\":{\"outlinewidth\":0,\"ticks\":\"\"}}}],\"scattermapbox\":[{\"type\":\"scattermapbox\",\"marker\":{\"colorbar\":{\"outlinewidth\":0,\"ticks\":\"\"}}}],\"scatterternary\":[{\"type\":\"scatterternary\",\"marker\":{\"colorbar\":{\"outlinewidth\":0,\"ticks\":\"\"}}}],\"scattercarpet\":[{\"type\":\"scattercarpet\",\"marker\":{\"colorbar\":{\"outlinewidth\":0,\"ticks\":\"\"}}}],\"carpet\":[{\"aaxis\":{\"endlinecolor\":\"#2a3f5f\",\"gridcolor\":\"white\",\"linecolor\":\"white\",\"minorgridcolor\":\"white\",\"startlinecolor\":\"#2a3f5f\"},\"baxis\":{\"endlinecolor\":\"#2a3f5f\",\"gridcolor\":\"white\",\"linecolor\":\"white\",\"minorgridcolor\":\"white\",\"startlinecolor\":\"#2a3f5f\"},\"type\":\"carpet\"}],\"table\":[{\"cells\":{\"fill\":{\"color\":\"#EBF0F8\"},\"line\":{\"color\":\"white\"}},\"header\":{\"fill\":{\"color\":\"#C8D4E3\"},\"line\":{\"color\":\"white\"}},\"type\":\"table\"}],\"barpolar\":[{\"marker\":{\"line\":{\"color\":\"#E5ECF6\",\"width\":0.5},\"pattern\":{\"fillmode\":\"overlay\",\"size\":10,\"solidity\":0.2}},\"type\":\"barpolar\"}],\"pie\":[{\"automargin\":true,\"type\":\"pie\"}]},\"layout\":{\"autotypenumbers\":\"strict\",\"colorway\":[\"#636efa\",\"#EF553B\",\"#00cc96\",\"#ab63fa\",\"#FFA15A\",\"#19d3f3\",\"#FF6692\",\"#B6E880\",\"#FF97FF\",\"#FECB52\"],\"font\":{\"color\":\"#2a3f5f\"},\"hovermode\":\"closest\",\"hoverlabel\":{\"align\":\"left\"},\"paper_bgcolor\":\"white\",\"plot_bgcolor\":\"#E5ECF6\",\"polar\":{\"bgcolor\":\"#E5ECF6\",\"angularaxis\":{\"gridcolor\":\"white\",\"linecolor\":\"white\",\"ticks\":\"\"},\"radialaxis\":{\"gridcolor\":\"white\",\"linecolor\":\"white\",\"ticks\":\"\"}},\"ternary\":{\"bgcolor\":\"#E5ECF6\",\"aaxis\":{\"gridcolor\":\"white\",\"linecolor\":\"white\",\"ticks\":\"\"},\"baxis\":{\"gridcolor\":\"white\",\"linecolor\":\"white\",\"ticks\":\"\"},\"caxis\":{\"gridcolor\":\"white\",\"linecolor\":\"white\",\"ticks\":\"\"}},\"coloraxis\":{\"colorbar\":{\"outlinewidth\":0,\"ticks\":\"\"}},\"colorscale\":{\"sequential\":[[0.0,\"#0d0887\"],[0.1111111111111111,\"#46039f\"],[0.2222222222222222,\"#7201a8\"],[0.3333333333333333,\"#9c179e\"],[0.4444444444444444,\"#bd3786\"],[0.5555555555555556,\"#d8576b\"],[0.6666666666666666,\"#ed7953\"],[0.7777777777777778,\"#fb9f3a\"],[0.8888888888888888,\"#fdca26\"],[1.0,\"#f0f921\"]],\"sequentialminus\":[[0.0,\"#0d0887\"],[0.1111111111111111,\"#46039f\"],[0.2222222222222222,\"#7201a8\"],[0.3333333333333333,\"#9c179e\"],[0.4444444444444444,\"#bd3786\"],[0.5555555555555556,\"#d8576b\"],[0.6666666666666666,\"#ed7953\"],[0.7777777777777778,\"#fb9f3a\"],[0.8888888888888888,\"#fdca26\"],[1.0,\"#f0f921\"]],\"diverging\":[[0,\"#8e0152\"],[0.1,\"#c51b7d\"],[0.2,\"#de77ae\"],[0.3,\"#f1b6da\"],[0.4,\"#fde0ef\"],[0.5,\"#f7f7f7\"],[0.6,\"#e6f5d0\"],[0.7,\"#b8e186\"],[0.8,\"#7fbc41\"],[0.9,\"#4d9221\"],[1,\"#276419\"]]},\"xaxis\":{\"gridcolor\":\"white\",\"linecolor\":\"white\",\"ticks\":\"\",\"title\":{\"standoff\":15},\"zerolinecolor\":\"white\",\"automargin\":true,\"zerolinewidth\":2},\"yaxis\":{\"gridcolor\":\"white\",\"linecolor\":\"white\",\"ticks\":\"\",\"title\":{\"standoff\":15},\"zerolinecolor\":\"white\",\"automargin\":true,\"zerolinewidth\":2},\"scene\":{\"xaxis\":{\"backgroundcolor\":\"#E5ECF6\",\"gridcolor\":\"white\",\"linecolor\":\"white\",\"showbackground\":true,\"ticks\":\"\",\"zerolinecolor\":\"white\",\"gridwidth\":2},\"yaxis\":{\"backgroundcolor\":\"#E5ECF6\",\"gridcolor\":\"white\",\"linecolor\":\"white\",\"showbackground\":true,\"ticks\":\"\",\"zerolinecolor\":\"white\",\"gridwidth\":2},\"zaxis\":{\"backgroundcolor\":\"#E5ECF6\",\"gridcolor\":\"white\",\"linecolor\":\"white\",\"showbackground\":true,\"ticks\":\"\",\"zerolinecolor\":\"white\",\"gridwidth\":2}},\"shapedefaults\":{\"line\":{\"color\":\"#2a3f5f\"}},\"annotationdefaults\":{\"arrowcolor\":\"#2a3f5f\",\"arrowhead\":0,\"arrowwidth\":1},\"geo\":{\"bgcolor\":\"white\",\"landcolor\":\"#E5ECF6\",\"subunitcolor\":\"white\",\"showland\":true,\"showlakes\":true,\"lakecolor\":\"white\"},\"title\":{\"x\":0.05},\"mapbox\":{\"style\":\"light\"}}},\"scene\":{\"domain\":{\"x\":[0.0,1.0],\"y\":[0.0,1.0]},\"xaxis\":{\"title\":{\"text\":\"X\"}},\"yaxis\":{\"title\":{\"text\":\"Y\"}},\"zaxis\":{\"title\":{\"text\":\"Z\"}}},\"legend\":{\"title\":{\"text\":\"Color\"},\"tracegroupgap\":0},\"title\":{\"text\":\"3D Scatter Plot\"}},                        {\"responsive\": true}                    ).then(function(){\n",
              "                            \n",
              "var gd = document.getElementById('e19a02fb-8d37-4175-9c87-bff531da4994');\n",
              "var x = new MutationObserver(function (mutations, observer) {{\n",
              "        var display = window.getComputedStyle(gd).display;\n",
              "        if (!display || display === 'none') {{\n",
              "            console.log([gd, 'removed!']);\n",
              "            Plotly.purge(gd);\n",
              "            observer.disconnect();\n",
              "        }}\n",
              "}});\n",
              "\n",
              "// Listen for the removal of the full notebook cells\n",
              "var notebookContainer = gd.closest('#notebook-container');\n",
              "if (notebookContainer) {{\n",
              "    x.observe(notebookContainer, {childList: true});\n",
              "}}\n",
              "\n",
              "// Listen for the clearing of the current output cell\n",
              "var outputEl = gd.closest('.output');\n",
              "if (outputEl) {{\n",
              "    x.observe(outputEl, {childList: true});\n",
              "}}\n",
              "\n",
              "                        })                };                            </script>        </div>\n",
              "</body>\n",
              "</html>"
            ]
          },
          "metadata": {}
        }
      ]
    }
  ]
}